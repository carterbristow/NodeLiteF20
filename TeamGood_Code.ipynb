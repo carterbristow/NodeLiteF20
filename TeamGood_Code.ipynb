{
  "nbformat": 4,
  "nbformat_minor": 0,
  "metadata": {
    "colab": {
      "name": "TeamGood_Code.ipynb",
      "provenance": [],
      "collapsed_sections": [
        "nxcFco93peSf",
        "RIJUBTLgqfet"
      ],
      "toc_visible": true
    },
    "kernelspec": {
      "name": "python3",
      "display_name": "Python 3"
    }
  },
  "cells": [
    {
      "cell_type": "markdown",
      "metadata": {
        "id": "biWegXmoibsm"
      },
      "source": [
        "Sources: https://towardsdatascience.com/hyperparameter-tuning-the-random-forest-in-python-using-scikit-learn-28d2aa77dd74"
      ]
    },
    {
      "cell_type": "markdown",
      "metadata": {
        "id": "xmrJVg1mVQs0"
      },
      "source": [
        ""
      ]
    },
    {
      "cell_type": "markdown",
      "metadata": {
        "id": "MizNCIQNt6WL"
      },
      "source": [
        "# Data Importing"
      ]
    },
    {
      "cell_type": "code",
      "metadata": {
        "colab": {
          "base_uri": "https://localhost:8080/",
          "height": 762
        },
        "id": "u0mTchNDLO73",
        "outputId": "c169803f-075b-45fa-f3fe-eccc98455eff"
      },
      "source": [
        "import os\n",
        "import numpy as np\n",
        "import matplotlib\n",
        "import matplotlib.pyplot as plt\n",
        "import pandas as pd\n",
        "VDH_covid19_raw = pd.read_csv(\"https://raw.githubusercontent.com/dszabo236/cs4774Assigments/main/VDH-COVID-19-PublicUseDataset-Cases.csv\")\n",
        "\n",
        "Med_HouseIncome_raw = pd.read_csv(\"https://raw.githubusercontent.com/carterbristow/NodeLiteF20/master/Median_Household_Income_by_race_ethnicity_by_Virginia_locality.csv\")\n",
        "demographics_raw = pd.read_csv(\"https://raw.githubusercontent.com/carterbristow/NodeLiteF20/master/ACSDP5Y2019.DP05_data_with_overlays_2021-04-06T104558.csv\")\n",
        "demographics_raw = demographics_raw[demographics_raw.columns.drop(list(demographics_raw.filter(regex='\\dM')))] # Margins\n",
        "demographics_raw = demographics_raw[demographics_raw.columns.drop(list(demographics_raw.filter(regex='P[EM]')))] # Other Margins \n",
        "demographics_raw = demographics_raw[demographics_raw.columns.drop(list(demographics_raw.filter(regex='8[7-9]')))] # Remove voting info\n",
        "demographics_raw = demographics_raw[demographics_raw.columns.drop(list(demographics_raw.filter(regex='001[9]')))] # Remove under 18 \n",
        "demographics_raw = demographics_raw[demographics_raw.columns.drop(list(demographics_raw.filter(regex='00[2]\\d')))] #Age groups age and up\n",
        "demographics_raw = demographics_raw[demographics_raw.columns.drop(list(demographics_raw.filter(regex='000[4]')))] #male/female ratio\n",
        "demographics_raw = demographics_raw[demographics_raw.columns.drop(list(demographics_raw.filter(regex='003[0124]')))] # Remove age over 65/unnecesary pop data\n",
        "demographics_raw = demographics_raw[demographics_raw.columns.drop(list(demographics_raw.filter(regex='003[69]')))] # Editing pop\n",
        "demographics_raw = demographics_raw[demographics_raw.columns.drop(list(demographics_raw.filter(regex='004[012356789]')))] # REmoving subdemographic asian population\n",
        "demographics_raw = demographics_raw[demographics_raw.columns.drop(list(demographics_raw.filter(regex='005[01234569]')))] # removed native american subdemographic groups\n",
        "demographics_raw = demographics_raw[demographics_raw.columns.drop(list(demographics_raw.filter(regex='006\\d')))] # All combination race\n",
        "demographics_raw = demographics_raw[demographics_raw.columns.drop(list(demographics_raw.filter(regex='007[023456789]')))] # Removing hispanic or latino subgroups\n",
        "demographics_raw = demographics_raw[demographics_raw.columns.drop(list(demographics_raw.filter(regex='008[0123456]')))] # Two or more race and housing units\n",
        "#Above I removed a bunch of unnessicary data such as percentages margins and other data not relevent to our project\n",
        "\n",
        "pd.set_option('display.max_colwidth', -1) \n",
        "demographics_raw"
      ],
      "execution_count": null,
      "outputs": [
        {
          "output_type": "stream",
          "text": [
            "/usr/local/lib/python3.7/dist-packages/ipykernel_launcher.py:25: FutureWarning: Passing a negative integer is deprecated in version 1.0 and will not be supported in future version. Instead, use None to not limit the column width.\n"
          ],
          "name": "stderr"
        },
        {
          "output_type": "execute_result",
          "data": {
            "text/html": [
              "<div>\n",
              "<style scoped>\n",
              "    .dataframe tbody tr th:only-of-type {\n",
              "        vertical-align: middle;\n",
              "    }\n",
              "\n",
              "    .dataframe tbody tr th {\n",
              "        vertical-align: top;\n",
              "    }\n",
              "\n",
              "    .dataframe thead th {\n",
              "        text-align: right;\n",
              "    }\n",
              "</style>\n",
              "<table border=\"1\" class=\"dataframe\">\n",
              "  <thead>\n",
              "    <tr style=\"text-align: right;\">\n",
              "      <th></th>\n",
              "      <th>GEO_ID</th>\n",
              "      <th>NAME</th>\n",
              "      <th>DP05_0001E</th>\n",
              "      <th>DP05_0002E</th>\n",
              "      <th>DP05_0003E</th>\n",
              "      <th>DP05_0005E</th>\n",
              "      <th>DP05_0006E</th>\n",
              "      <th>DP05_0007E</th>\n",
              "      <th>DP05_0008E</th>\n",
              "      <th>DP05_0009E</th>\n",
              "      <th>DP05_0010E</th>\n",
              "      <th>DP05_0011E</th>\n",
              "      <th>DP05_0012E</th>\n",
              "      <th>DP05_0013E</th>\n",
              "      <th>DP05_0014E</th>\n",
              "      <th>DP05_0015E</th>\n",
              "      <th>DP05_0016E</th>\n",
              "      <th>DP05_0017E</th>\n",
              "      <th>DP05_0018E</th>\n",
              "      <th>DP05_0033E</th>\n",
              "      <th>DP05_0035E</th>\n",
              "      <th>DP05_0037E</th>\n",
              "      <th>DP05_0038E</th>\n",
              "      <th>DP05_0044E</th>\n",
              "      <th>DP05_0057E</th>\n",
              "      <th>DP05_0058E</th>\n",
              "      <th>DP05_0071E</th>\n",
              "    </tr>\n",
              "  </thead>\n",
              "  <tbody>\n",
              "    <tr>\n",
              "      <th>0</th>\n",
              "      <td>id</td>\n",
              "      <td>Geographic Area Name</td>\n",
              "      <td>Estimate!!SEX AND AGE!!Total population</td>\n",
              "      <td>Estimate!!SEX AND AGE!!Total population!!Male</td>\n",
              "      <td>Estimate!!SEX AND AGE!!Total population!!Female</td>\n",
              "      <td>Estimate!!SEX AND AGE!!Total population!!Under 5 years</td>\n",
              "      <td>Estimate!!SEX AND AGE!!Total population!!5 to 9 years</td>\n",
              "      <td>Estimate!!SEX AND AGE!!Total population!!10 to 14 years</td>\n",
              "      <td>Estimate!!SEX AND AGE!!Total population!!15 to 19 years</td>\n",
              "      <td>Estimate!!SEX AND AGE!!Total population!!20 to 24 years</td>\n",
              "      <td>Estimate!!SEX AND AGE!!Total population!!25 to 34 years</td>\n",
              "      <td>Estimate!!SEX AND AGE!!Total population!!35 to 44 years</td>\n",
              "      <td>Estimate!!SEX AND AGE!!Total population!!45 to 54 years</td>\n",
              "      <td>Estimate!!SEX AND AGE!!Total population!!55 to 59 years</td>\n",
              "      <td>Estimate!!SEX AND AGE!!Total population!!60 to 64 years</td>\n",
              "      <td>Estimate!!SEX AND AGE!!Total population!!65 to 74 years</td>\n",
              "      <td>Estimate!!SEX AND AGE!!Total population!!75 to 84 years</td>\n",
              "      <td>Estimate!!SEX AND AGE!!Total population!!85 years and over</td>\n",
              "      <td>Estimate!!SEX AND AGE!!Total population!!Median age (years)</td>\n",
              "      <td>Estimate!!RACE!!Total population</td>\n",
              "      <td>Estimate!!RACE!!Total population!!Two or more races</td>\n",
              "      <td>Estimate!!RACE!!Total population!!One race!!White</td>\n",
              "      <td>Estimate!!RACE!!Total population!!One race!!Black or African American</td>\n",
              "      <td>Estimate!!RACE!!Total population!!One race!!Asian</td>\n",
              "      <td>Estimate!!RACE!!Total population!!One race!!Some other race</td>\n",
              "      <td>Estimate!!RACE!!Total population!!Two or more races</td>\n",
              "      <td>Estimate!!HISPANIC OR LATINO AND RACE!!Total population!!Hispanic or Latino (of any race)</td>\n",
              "    </tr>\n",
              "    <tr>\n",
              "      <th>1</th>\n",
              "      <td>0500000US51001</td>\n",
              "      <td>Accomack County, Virginia</td>\n",
              "      <td>32673</td>\n",
              "      <td>15934</td>\n",
              "      <td>16739</td>\n",
              "      <td>1882</td>\n",
              "      <td>1943</td>\n",
              "      <td>1923</td>\n",
              "      <td>1684</td>\n",
              "      <td>1734</td>\n",
              "      <td>3469</td>\n",
              "      <td>3396</td>\n",
              "      <td>3884</td>\n",
              "      <td>2754</td>\n",
              "      <td>2580</td>\n",
              "      <td>4372</td>\n",
              "      <td>2086</td>\n",
              "      <td>966</td>\n",
              "      <td>45.9</td>\n",
              "      <td>32673</td>\n",
              "      <td>341</td>\n",
              "      <td>22282</td>\n",
              "      <td>9331</td>\n",
              "      <td>265</td>\n",
              "      <td>279</td>\n",
              "      <td>341</td>\n",
              "      <td>2929</td>\n",
              "    </tr>\n",
              "    <tr>\n",
              "      <th>2</th>\n",
              "      <td>0500000US51003</td>\n",
              "      <td>Albemarle County, Virginia</td>\n",
              "      <td>107405</td>\n",
              "      <td>51363</td>\n",
              "      <td>56042</td>\n",
              "      <td>5783</td>\n",
              "      <td>6212</td>\n",
              "      <td>5910</td>\n",
              "      <td>9552</td>\n",
              "      <td>7011</td>\n",
              "      <td>13847</td>\n",
              "      <td>12415</td>\n",
              "      <td>12986</td>\n",
              "      <td>7286</td>\n",
              "      <td>7063</td>\n",
              "      <td>10954</td>\n",
              "      <td>5654</td>\n",
              "      <td>2732</td>\n",
              "      <td>39.1</td>\n",
              "      <td>107405</td>\n",
              "      <td>2605</td>\n",
              "      <td>87831</td>\n",
              "      <td>10245</td>\n",
              "      <td>5590</td>\n",
              "      <td>822</td>\n",
              "      <td>2605</td>\n",
              "      <td>6200</td>\n",
              "    </tr>\n",
              "    <tr>\n",
              "      <th>3</th>\n",
              "      <td>0500000US51005</td>\n",
              "      <td>Alleghany County, Virginia</td>\n",
              "      <td>15157</td>\n",
              "      <td>7367</td>\n",
              "      <td>7790</td>\n",
              "      <td>673</td>\n",
              "      <td>856</td>\n",
              "      <td>742</td>\n",
              "      <td>893</td>\n",
              "      <td>765</td>\n",
              "      <td>1576</td>\n",
              "      <td>1525</td>\n",
              "      <td>2079</td>\n",
              "      <td>1173</td>\n",
              "      <td>1268</td>\n",
              "      <td>2030</td>\n",
              "      <td>1064</td>\n",
              "      <td>513</td>\n",
              "      <td>48.1</td>\n",
              "      <td>15157</td>\n",
              "      <td>172</td>\n",
              "      <td>14012</td>\n",
              "      <td>881</td>\n",
              "      <td>16</td>\n",
              "      <td>76</td>\n",
              "      <td>172</td>\n",
              "      <td>225</td>\n",
              "    </tr>\n",
              "    <tr>\n",
              "      <th>4</th>\n",
              "      <td>0500000US51007</td>\n",
              "      <td>Amelia County, Virginia</td>\n",
              "      <td>12953</td>\n",
              "      <td>6580</td>\n",
              "      <td>6373</td>\n",
              "      <td>763</td>\n",
              "      <td>962</td>\n",
              "      <td>556</td>\n",
              "      <td>876</td>\n",
              "      <td>513</td>\n",
              "      <td>1450</td>\n",
              "      <td>1353</td>\n",
              "      <td>1882</td>\n",
              "      <td>1417</td>\n",
              "      <td>698</td>\n",
              "      <td>1490</td>\n",
              "      <td>673</td>\n",
              "      <td>320</td>\n",
              "      <td>45.1</td>\n",
              "      <td>12953</td>\n",
              "      <td>360</td>\n",
              "      <td>9824</td>\n",
              "      <td>2745</td>\n",
              "      <td>0</td>\n",
              "      <td>0</td>\n",
              "      <td>360</td>\n",
              "      <td>390</td>\n",
              "    </tr>\n",
              "    <tr>\n",
              "      <th>...</th>\n",
              "      <td>...</td>\n",
              "      <td>...</td>\n",
              "      <td>...</td>\n",
              "      <td>...</td>\n",
              "      <td>...</td>\n",
              "      <td>...</td>\n",
              "      <td>...</td>\n",
              "      <td>...</td>\n",
              "      <td>...</td>\n",
              "      <td>...</td>\n",
              "      <td>...</td>\n",
              "      <td>...</td>\n",
              "      <td>...</td>\n",
              "      <td>...</td>\n",
              "      <td>...</td>\n",
              "      <td>...</td>\n",
              "      <td>...</td>\n",
              "      <td>...</td>\n",
              "      <td>...</td>\n",
              "      <td>...</td>\n",
              "      <td>...</td>\n",
              "      <td>...</td>\n",
              "      <td>...</td>\n",
              "      <td>...</td>\n",
              "      <td>...</td>\n",
              "      <td>...</td>\n",
              "      <td>...</td>\n",
              "    </tr>\n",
              "    <tr>\n",
              "      <th>130</th>\n",
              "      <td>0500000US51810</td>\n",
              "      <td>Virginia Beach city, Virginia</td>\n",
              "      <td>450201</td>\n",
              "      <td>221324</td>\n",
              "      <td>228877</td>\n",
              "      <td>28576</td>\n",
              "      <td>27474</td>\n",
              "      <td>27795</td>\n",
              "      <td>26688</td>\n",
              "      <td>32609</td>\n",
              "      <td>74440</td>\n",
              "      <td>58680</td>\n",
              "      <td>57267</td>\n",
              "      <td>29025</td>\n",
              "      <td>25843</td>\n",
              "      <td>36542</td>\n",
              "      <td>18046</td>\n",
              "      <td>7216</td>\n",
              "      <td>36.2</td>\n",
              "      <td>450201</td>\n",
              "      <td>25113</td>\n",
              "      <td>298347</td>\n",
              "      <td>85609</td>\n",
              "      <td>30130</td>\n",
              "      <td>9285</td>\n",
              "      <td>25113</td>\n",
              "      <td>36785</td>\n",
              "    </tr>\n",
              "    <tr>\n",
              "      <th>131</th>\n",
              "      <td>0500000US51820</td>\n",
              "      <td>Waynesboro city, Virginia</td>\n",
              "      <td>22140</td>\n",
              "      <td>10836</td>\n",
              "      <td>11304</td>\n",
              "      <td>1410</td>\n",
              "      <td>1659</td>\n",
              "      <td>1423</td>\n",
              "      <td>1182</td>\n",
              "      <td>1134</td>\n",
              "      <td>3234</td>\n",
              "      <td>2813</td>\n",
              "      <td>2608</td>\n",
              "      <td>1404</td>\n",
              "      <td>1369</td>\n",
              "      <td>2087</td>\n",
              "      <td>1257</td>\n",
              "      <td>560</td>\n",
              "      <td>39.2</td>\n",
              "      <td>22140</td>\n",
              "      <td>472</td>\n",
              "      <td>18025</td>\n",
              "      <td>3149</td>\n",
              "      <td>239</td>\n",
              "      <td>73</td>\n",
              "      <td>472</td>\n",
              "      <td>1788</td>\n",
              "    </tr>\n",
              "    <tr>\n",
              "      <th>132</th>\n",
              "      <td>0500000US51830</td>\n",
              "      <td>Williamsburg city, Virginia</td>\n",
              "      <td>14927</td>\n",
              "      <td>6929</td>\n",
              "      <td>7998</td>\n",
              "      <td>515</td>\n",
              "      <td>475</td>\n",
              "      <td>281</td>\n",
              "      <td>2874</td>\n",
              "      <td>3343</td>\n",
              "      <td>1799</td>\n",
              "      <td>834</td>\n",
              "      <td>1071</td>\n",
              "      <td>642</td>\n",
              "      <td>751</td>\n",
              "      <td>1288</td>\n",
              "      <td>838</td>\n",
              "      <td>216</td>\n",
              "      <td>24.9</td>\n",
              "      <td>14927</td>\n",
              "      <td>535</td>\n",
              "      <td>10961</td>\n",
              "      <td>2246</td>\n",
              "      <td>963</td>\n",
              "      <td>169</td>\n",
              "      <td>535</td>\n",
              "      <td>1053</td>\n",
              "    </tr>\n",
              "    <tr>\n",
              "      <th>133</th>\n",
              "      <td>0500000US51840</td>\n",
              "      <td>Winchester city, Virginia</td>\n",
              "      <td>27897</td>\n",
              "      <td>13694</td>\n",
              "      <td>14203</td>\n",
              "      <td>1872</td>\n",
              "      <td>1882</td>\n",
              "      <td>1606</td>\n",
              "      <td>2226</td>\n",
              "      <td>1775</td>\n",
              "      <td>3704</td>\n",
              "      <td>3239</td>\n",
              "      <td>3958</td>\n",
              "      <td>1594</td>\n",
              "      <td>1598</td>\n",
              "      <td>2534</td>\n",
              "      <td>1339</td>\n",
              "      <td>570</td>\n",
              "      <td>38.1</td>\n",
              "      <td>27897</td>\n",
              "      <td>1183</td>\n",
              "      <td>22878</td>\n",
              "      <td>2808</td>\n",
              "      <td>624</td>\n",
              "      <td>330</td>\n",
              "      <td>1183</td>\n",
              "      <td>4958</td>\n",
              "    </tr>\n",
              "    <tr>\n",
              "      <th>134</th>\n",
              "      <td>0400000US51</td>\n",
              "      <td>Virginia</td>\n",
              "      <td>8454463</td>\n",
              "      <td>4159173</td>\n",
              "      <td>4295290</td>\n",
              "      <td>508399</td>\n",
              "      <td>515885</td>\n",
              "      <td>525704</td>\n",
              "      <td>551262</td>\n",
              "      <td>576327</td>\n",
              "      <td>1174091</td>\n",
              "      <td>1100460</td>\n",
              "      <td>1139236</td>\n",
              "      <td>571821</td>\n",
              "      <td>519332</td>\n",
              "      <td>756712</td>\n",
              "      <td>368997</td>\n",
              "      <td>146237</td>\n",
              "      <td>38.2</td>\n",
              "      <td>8454463</td>\n",
              "      <td>320275</td>\n",
              "      <td>5717617</td>\n",
              "      <td>1621592</td>\n",
              "      <td>541133</td>\n",
              "      <td>223794</td>\n",
              "      <td>320275</td>\n",
              "      <td>792001</td>\n",
              "    </tr>\n",
              "  </tbody>\n",
              "</table>\n",
              "<p>135 rows × 27 columns</p>\n",
              "</div>"
            ],
            "text/plain": [
              "             GEO_ID  ...                                                                                 DP05_0071E\n",
              "0    id              ...  Estimate!!HISPANIC OR LATINO AND RACE!!Total population!!Hispanic or Latino (of any race)\n",
              "1    0500000US51001  ...  2929                                                                                     \n",
              "2    0500000US51003  ...  6200                                                                                     \n",
              "3    0500000US51005  ...  225                                                                                      \n",
              "4    0500000US51007  ...  390                                                                                      \n",
              "..              ...  ...  ...                                                                                      \n",
              "130  0500000US51810  ...  36785                                                                                    \n",
              "131  0500000US51820  ...  1788                                                                                     \n",
              "132  0500000US51830  ...  1053                                                                                     \n",
              "133  0500000US51840  ...  4958                                                                                     \n",
              "134  0400000US51     ...  792001                                                                                   \n",
              "\n",
              "[135 rows x 27 columns]"
            ]
          },
          "metadata": {
            "tags": []
          },
          "execution_count": 2
        }
      ]
    },
    {
      "cell_type": "code",
      "metadata": {
        "colab": {
          "base_uri": "https://localhost:8080/",
          "height": 419
        },
        "id": "90Hn-5WmqW8z",
        "outputId": "32830a05-45b6-461c-a1a3-e7c6a947deea"
      },
      "source": [
        "VDH_covid19_raw"
      ],
      "execution_count": null,
      "outputs": [
        {
          "output_type": "execute_result",
          "data": {
            "text/html": [
              "<div>\n",
              "<style scoped>\n",
              "    .dataframe tbody tr th:only-of-type {\n",
              "        vertical-align: middle;\n",
              "    }\n",
              "\n",
              "    .dataframe tbody tr th {\n",
              "        vertical-align: top;\n",
              "    }\n",
              "\n",
              "    .dataframe thead th {\n",
              "        text-align: right;\n",
              "    }\n",
              "</style>\n",
              "<table border=\"1\" class=\"dataframe\">\n",
              "  <thead>\n",
              "    <tr style=\"text-align: right;\">\n",
              "      <th></th>\n",
              "      <th>Report Date</th>\n",
              "      <th>FIPS</th>\n",
              "      <th>Locality</th>\n",
              "      <th>VDH Health District</th>\n",
              "      <th>Total Cases</th>\n",
              "      <th>Hospitalizations</th>\n",
              "      <th>Deaths</th>\n",
              "    </tr>\n",
              "  </thead>\n",
              "  <tbody>\n",
              "    <tr>\n",
              "      <th>0</th>\n",
              "      <td>11/28/2020</td>\n",
              "      <td>51001</td>\n",
              "      <td>Accomack</td>\n",
              "      <td>Eastern Shore</td>\n",
              "      <td>1340</td>\n",
              "      <td>107</td>\n",
              "      <td>21</td>\n",
              "    </tr>\n",
              "    <tr>\n",
              "      <th>1</th>\n",
              "      <td>11/28/2020</td>\n",
              "      <td>51003</td>\n",
              "      <td>Albemarle</td>\n",
              "      <td>Thomas Jefferson</td>\n",
              "      <td>1896</td>\n",
              "      <td>100</td>\n",
              "      <td>27</td>\n",
              "    </tr>\n",
              "    <tr>\n",
              "      <th>2</th>\n",
              "      <td>11/28/2020</td>\n",
              "      <td>51005</td>\n",
              "      <td>Alleghany</td>\n",
              "      <td>Alleghany</td>\n",
              "      <td>316</td>\n",
              "      <td>19</td>\n",
              "      <td>7</td>\n",
              "    </tr>\n",
              "    <tr>\n",
              "      <th>3</th>\n",
              "      <td>11/28/2020</td>\n",
              "      <td>51007</td>\n",
              "      <td>Amelia</td>\n",
              "      <td>Piedmont</td>\n",
              "      <td>210</td>\n",
              "      <td>21</td>\n",
              "      <td>6</td>\n",
              "    </tr>\n",
              "    <tr>\n",
              "      <th>4</th>\n",
              "      <td>11/28/2020</td>\n",
              "      <td>51009</td>\n",
              "      <td>Amherst</td>\n",
              "      <td>Central Virginia</td>\n",
              "      <td>810</td>\n",
              "      <td>31</td>\n",
              "      <td>6</td>\n",
              "    </tr>\n",
              "    <tr>\n",
              "      <th>...</th>\n",
              "      <td>...</td>\n",
              "      <td>...</td>\n",
              "      <td>...</td>\n",
              "      <td>...</td>\n",
              "      <td>...</td>\n",
              "      <td>...</td>\n",
              "      <td>...</td>\n",
              "    </tr>\n",
              "    <tr>\n",
              "      <th>54525</th>\n",
              "      <td>04/30/2021</td>\n",
              "      <td>51800</td>\n",
              "      <td>Suffolk</td>\n",
              "      <td>Western Tidewater</td>\n",
              "      <td>7821</td>\n",
              "      <td>435</td>\n",
              "      <td>185</td>\n",
              "    </tr>\n",
              "    <tr>\n",
              "      <th>54526</th>\n",
              "      <td>04/30/2021</td>\n",
              "      <td>51810</td>\n",
              "      <td>Virginia Beach</td>\n",
              "      <td>Virginia Beach</td>\n",
              "      <td>35360</td>\n",
              "      <td>1572</td>\n",
              "      <td>385</td>\n",
              "    </tr>\n",
              "    <tr>\n",
              "      <th>54527</th>\n",
              "      <td>04/30/2021</td>\n",
              "      <td>51820</td>\n",
              "      <td>Waynesboro</td>\n",
              "      <td>Central Shenandoah</td>\n",
              "      <td>2345</td>\n",
              "      <td>73</td>\n",
              "      <td>37</td>\n",
              "    </tr>\n",
              "    <tr>\n",
              "      <th>54528</th>\n",
              "      <td>04/30/2021</td>\n",
              "      <td>51830</td>\n",
              "      <td>Williamsburg</td>\n",
              "      <td>Peninsula</td>\n",
              "      <td>756</td>\n",
              "      <td>27</td>\n",
              "      <td>12</td>\n",
              "    </tr>\n",
              "    <tr>\n",
              "      <th>54529</th>\n",
              "      <td>04/30/2021</td>\n",
              "      <td>51840</td>\n",
              "      <td>Winchester</td>\n",
              "      <td>Lord Fairfax</td>\n",
              "      <td>2818</td>\n",
              "      <td>115</td>\n",
              "      <td>44</td>\n",
              "    </tr>\n",
              "  </tbody>\n",
              "</table>\n",
              "<p>54530 rows × 7 columns</p>\n",
              "</div>"
            ],
            "text/plain": [
              "      Report Date   FIPS        Locality  ... Total Cases  Hospitalizations  Deaths\n",
              "0      11/28/2020  51001  Accomack        ...  1340        107               21    \n",
              "1      11/28/2020  51003  Albemarle       ...  1896        100               27    \n",
              "2      11/28/2020  51005  Alleghany       ...  316         19                7     \n",
              "3      11/28/2020  51007  Amelia          ...  210         21                6     \n",
              "4      11/28/2020  51009  Amherst         ...  810         31                6     \n",
              "...           ...    ...      ...         ...  ...         ..               ..     \n",
              "54525  04/30/2021  51800  Suffolk         ...  7821        435               185   \n",
              "54526  04/30/2021  51810  Virginia Beach  ...  35360       1572              385   \n",
              "54527  04/30/2021  51820  Waynesboro      ...  2345        73                37    \n",
              "54528  04/30/2021  51830  Williamsburg    ...  756         27                12    \n",
              "54529  04/30/2021  51840  Winchester      ...  2818        115               44    \n",
              "\n",
              "[54530 rows x 7 columns]"
            ]
          },
          "metadata": {
            "tags": []
          },
          "execution_count": 3
        }
      ]
    },
    {
      "cell_type": "code",
      "metadata": {
        "colab": {
          "base_uri": "https://localhost:8080/",
          "height": 419
        },
        "id": "0hmu19eqbQjm",
        "outputId": "762f24bc-0d55-4bf6-ffd6-9f72e38496b3"
      },
      "source": [
        "VDH_covid19_raw.columns = VDH_covid19_raw.columns.str.replace(' ', '_')\n",
        "VDH_covid19 = VDH_covid19_raw.where(VDH_covid19_raw.Report_Date == '04/30/2021').dropna()\n",
        "VDH_covid19 = VDH_covid19.sort_values(by='FIPS')\n",
        "VDH_covid19.reset_index(drop=True, inplace=True)\n",
        "\n",
        "VDH_covid19"
      ],
      "execution_count": null,
      "outputs": [
        {
          "output_type": "execute_result",
          "data": {
            "text/html": [
              "<div>\n",
              "<style scoped>\n",
              "    .dataframe tbody tr th:only-of-type {\n",
              "        vertical-align: middle;\n",
              "    }\n",
              "\n",
              "    .dataframe tbody tr th {\n",
              "        vertical-align: top;\n",
              "    }\n",
              "\n",
              "    .dataframe thead th {\n",
              "        text-align: right;\n",
              "    }\n",
              "</style>\n",
              "<table border=\"1\" class=\"dataframe\">\n",
              "  <thead>\n",
              "    <tr style=\"text-align: right;\">\n",
              "      <th></th>\n",
              "      <th>Report_Date</th>\n",
              "      <th>FIPS</th>\n",
              "      <th>Locality</th>\n",
              "      <th>VDH_Health_District</th>\n",
              "      <th>Total_Cases</th>\n",
              "      <th>Hospitalizations</th>\n",
              "      <th>Deaths</th>\n",
              "    </tr>\n",
              "  </thead>\n",
              "  <tbody>\n",
              "    <tr>\n",
              "      <th>0</th>\n",
              "      <td>04/30/2021</td>\n",
              "      <td>51001.0</td>\n",
              "      <td>Accomack</td>\n",
              "      <td>Eastern Shore</td>\n",
              "      <td>2810.0</td>\n",
              "      <td>205.0</td>\n",
              "      <td>41.0</td>\n",
              "    </tr>\n",
              "    <tr>\n",
              "      <th>1</th>\n",
              "      <td>04/30/2021</td>\n",
              "      <td>51003.0</td>\n",
              "      <td>Albemarle</td>\n",
              "      <td>Blue Ridge</td>\n",
              "      <td>5704.0</td>\n",
              "      <td>217.0</td>\n",
              "      <td>83.0</td>\n",
              "    </tr>\n",
              "    <tr>\n",
              "      <th>2</th>\n",
              "      <td>04/30/2021</td>\n",
              "      <td>51005.0</td>\n",
              "      <td>Alleghany</td>\n",
              "      <td>Alleghany</td>\n",
              "      <td>1336.0</td>\n",
              "      <td>58.0</td>\n",
              "      <td>48.0</td>\n",
              "    </tr>\n",
              "    <tr>\n",
              "      <th>3</th>\n",
              "      <td>04/30/2021</td>\n",
              "      <td>51007.0</td>\n",
              "      <td>Amelia</td>\n",
              "      <td>Piedmont</td>\n",
              "      <td>878.0</td>\n",
              "      <td>50.0</td>\n",
              "      <td>31.0</td>\n",
              "    </tr>\n",
              "    <tr>\n",
              "      <th>4</th>\n",
              "      <td>04/30/2021</td>\n",
              "      <td>51009.0</td>\n",
              "      <td>Amherst</td>\n",
              "      <td>Central Virginia</td>\n",
              "      <td>2902.0</td>\n",
              "      <td>120.0</td>\n",
              "      <td>35.0</td>\n",
              "    </tr>\n",
              "    <tr>\n",
              "      <th>...</th>\n",
              "      <td>...</td>\n",
              "      <td>...</td>\n",
              "      <td>...</td>\n",
              "      <td>...</td>\n",
              "      <td>...</td>\n",
              "      <td>...</td>\n",
              "      <td>...</td>\n",
              "    </tr>\n",
              "    <tr>\n",
              "      <th>128</th>\n",
              "      <td>04/30/2021</td>\n",
              "      <td>51800.0</td>\n",
              "      <td>Suffolk</td>\n",
              "      <td>Western Tidewater</td>\n",
              "      <td>7821.0</td>\n",
              "      <td>435.0</td>\n",
              "      <td>185.0</td>\n",
              "    </tr>\n",
              "    <tr>\n",
              "      <th>129</th>\n",
              "      <td>04/30/2021</td>\n",
              "      <td>51810.0</td>\n",
              "      <td>Virginia Beach</td>\n",
              "      <td>Virginia Beach</td>\n",
              "      <td>35360.0</td>\n",
              "      <td>1572.0</td>\n",
              "      <td>385.0</td>\n",
              "    </tr>\n",
              "    <tr>\n",
              "      <th>130</th>\n",
              "      <td>04/30/2021</td>\n",
              "      <td>51820.0</td>\n",
              "      <td>Waynesboro</td>\n",
              "      <td>Central Shenandoah</td>\n",
              "      <td>2345.0</td>\n",
              "      <td>73.0</td>\n",
              "      <td>37.0</td>\n",
              "    </tr>\n",
              "    <tr>\n",
              "      <th>131</th>\n",
              "      <td>04/30/2021</td>\n",
              "      <td>51830.0</td>\n",
              "      <td>Williamsburg</td>\n",
              "      <td>Peninsula</td>\n",
              "      <td>756.0</td>\n",
              "      <td>27.0</td>\n",
              "      <td>12.0</td>\n",
              "    </tr>\n",
              "    <tr>\n",
              "      <th>132</th>\n",
              "      <td>04/30/2021</td>\n",
              "      <td>51840.0</td>\n",
              "      <td>Winchester</td>\n",
              "      <td>Lord Fairfax</td>\n",
              "      <td>2818.0</td>\n",
              "      <td>115.0</td>\n",
              "      <td>44.0</td>\n",
              "    </tr>\n",
              "  </tbody>\n",
              "</table>\n",
              "<p>133 rows × 7 columns</p>\n",
              "</div>"
            ],
            "text/plain": [
              "    Report_Date     FIPS        Locality  ... Total_Cases  Hospitalizations  Deaths\n",
              "0    04/30/2021  51001.0  Accomack        ...  2810.0      205.0             41.0  \n",
              "1    04/30/2021  51003.0  Albemarle       ...  5704.0      217.0             83.0  \n",
              "2    04/30/2021  51005.0  Alleghany       ...  1336.0      58.0              48.0  \n",
              "3    04/30/2021  51007.0  Amelia          ...  878.0       50.0              31.0  \n",
              "4    04/30/2021  51009.0  Amherst         ...  2902.0      120.0             35.0  \n",
              "..          ...      ...      ...         ...     ...        ...              ...  \n",
              "128  04/30/2021  51800.0  Suffolk         ...  7821.0      435.0             185.0 \n",
              "129  04/30/2021  51810.0  Virginia Beach  ...  35360.0     1572.0            385.0 \n",
              "130  04/30/2021  51820.0  Waynesboro      ...  2345.0      73.0              37.0  \n",
              "131  04/30/2021  51830.0  Williamsburg    ...  756.0       27.0              12.0  \n",
              "132  04/30/2021  51840.0  Winchester      ...  2818.0      115.0             44.0  \n",
              "\n",
              "[133 rows x 7 columns]"
            ]
          },
          "metadata": {
            "tags": []
          },
          "execution_count": 4
        }
      ]
    },
    {
      "cell_type": "code",
      "metadata": {
        "colab": {
          "base_uri": "https://localhost:8080/"
        },
        "id": "pisAnp0rB0ZT",
        "outputId": "bb29dfbd-e097-4ae9-fbac-591cb7b3a7d9"
      },
      "source": [
        "Med_HouseIncome_raw.columns = ['year', 'county', 'Overall_Income', 'White_Income', 'Black_Income', 'African_Income', 'Asian_Income', 'Hawaiian_Income', 'Other_Income', 'Two_Income', 'WhiteNH_Income', 'Hispanic_Income', 'state_code', 'locality_code']\n",
        "Med_HouseIncome_raw.info()"
      ],
      "execution_count": null,
      "outputs": [
        {
          "output_type": "stream",
          "text": [
            "<class 'pandas.core.frame.DataFrame'>\n",
            "RangeIndex: 1068 entries, 0 to 1067\n",
            "Data columns (total 14 columns):\n",
            " #   Column           Non-Null Count  Dtype \n",
            "---  ------           --------------  ----- \n",
            " 0   year             1068 non-null   object\n",
            " 1   county           1068 non-null   object\n",
            " 2   Overall_Income   1068 non-null   int64 \n",
            " 3   White_Income     1068 non-null   int64 \n",
            " 4   Black_Income     1068 non-null   int64 \n",
            " 5   African_Income   1068 non-null   int64 \n",
            " 6   Asian_Income     1068 non-null   int64 \n",
            " 7   Hawaiian_Income  1068 non-null   int64 \n",
            " 8   Other_Income     1068 non-null   int64 \n",
            " 9   Two_Income       1068 non-null   int64 \n",
            " 10  WhiteNH_Income   1068 non-null   int64 \n",
            " 11  Hispanic_Income  1068 non-null   int64 \n",
            " 12  state_code       1068 non-null   int64 \n",
            " 13  locality_code    1068 non-null   int64 \n",
            "dtypes: int64(12), object(2)\n",
            "memory usage: 116.9+ KB\n"
          ],
          "name": "stdout"
        }
      ]
    },
    {
      "cell_type": "markdown",
      "metadata": {
        "id": "lfgmC4fduBeO"
      },
      "source": [
        "# Data Cleaning"
      ]
    },
    {
      "cell_type": "code",
      "metadata": {
        "id": "82DMusNoR2ee"
      },
      "source": [
        "Med_HouseIncome_raw = Med_HouseIncome_raw.replace([-666666666], [None])\n",
        "Med_HouseIncome = Med_HouseIncome_raw[Med_HouseIncome_raw.columns.drop(['African_Income', 'Hawaiian_Income', 'Other_Income'])]\n",
        "Med_HouseIncome_avg = pd.DataFrame(columns=Med_HouseIncome.columns[1:])\n",
        "counties = pd.unique(Med_HouseIncome[['county']].values.ravel())"
      ],
      "execution_count": null,
      "outputs": []
    },
    {
      "cell_type": "code",
      "metadata": {
        "colab": {
          "base_uri": "https://localhost:8080/"
        },
        "id": "9LgfZTmdaP7m",
        "outputId": "e229b4cd-5b1a-4b84-c3d3-b636882fa86a"
      },
      "source": [
        "Med_HouseIncome_raw = Med_HouseIncome_raw.replace([-666666666], [None])\n",
        "Med_HouseIncome = Med_HouseIncome_raw[Med_HouseIncome_raw.columns.drop(['African_Income', 'Hawaiian_Income', 'Other_Income'])]\n",
        "Med_HouseIncome_avg = pd.DataFrame(columns=Med_HouseIncome.columns[1:])\n",
        "counties = pd.unique(Med_HouseIncome[['county']].values.ravel())\n",
        "Med_HouseIncome.info()"
      ],
      "execution_count": null,
      "outputs": [
        {
          "output_type": "stream",
          "text": [
            "<class 'pandas.core.frame.DataFrame'>\n",
            "RangeIndex: 1068 entries, 0 to 1067\n",
            "Data columns (total 11 columns):\n",
            " #   Column           Non-Null Count  Dtype  \n",
            "---  ------           --------------  -----  \n",
            " 0   year             1068 non-null   object \n",
            " 1   county           1068 non-null   object \n",
            " 2   Overall_Income   1068 non-null   int64  \n",
            " 3   White_Income     1068 non-null   int64  \n",
            " 4   Black_Income     1017 non-null   float64\n",
            " 5   Asian_Income     629 non-null    float64\n",
            " 6   Two_Income       810 non-null    float64\n",
            " 7   WhiteNH_Income   1068 non-null   int64  \n",
            " 8   Hispanic_Income  862 non-null    float64\n",
            " 9   state_code       1068 non-null   int64  \n",
            " 10  locality_code    1068 non-null   int64  \n",
            "dtypes: float64(4), int64(5), object(2)\n",
            "memory usage: 91.9+ KB\n"
          ],
          "name": "stdout"
        }
      ]
    },
    {
      "cell_type": "code",
      "metadata": {
        "colab": {
          "base_uri": "https://localhost:8080/",
          "height": 419
        },
        "id": "1f_b2CYCAYG9",
        "outputId": "21de1655-ba12-4e7c-95e7-3d15e160a503"
      },
      "source": [
        "row = 0\n",
        "for n in counties: #averages the incomes of the counites based on columns since no specific date had all of the counties\n",
        "  county_avg = Med_HouseIncome.where(Med_HouseIncome.county == n).dropna(how='all').mean(axis=0)\n",
        "  new_row = [n, county_avg[0], county_avg[1], county_avg[2], county_avg[3], county_avg[4], county_avg[5], county_avg[6], county_avg[7], county_avg[8]]\n",
        "  Med_HouseIncome_avg.loc[row] = new_row\n",
        "  row += 1\n",
        "Med_HouseIncome_avg = Med_HouseIncome_avg.where(Med_HouseIncome_avg.locality_code != 515).dropna(how='all') #Removed Bedford City because in 2013 it became a town (I live there lol)\n",
        "Med_HouseIncome_avg = Med_HouseIncome_avg.sort_values(by='locality_code')\n",
        "Med_HouseIncome_avg = Med_HouseIncome_avg[Med_HouseIncome_avg.columns.drop('state_code')]\n",
        "Med_HouseIncome_avg.reset_index(drop=True, inplace=True)\n",
        "\n",
        "Med_HouseIncome_avg"
      ],
      "execution_count": null,
      "outputs": [
        {
          "output_type": "execute_result",
          "data": {
            "text/html": [
              "<div>\n",
              "<style scoped>\n",
              "    .dataframe tbody tr th:only-of-type {\n",
              "        vertical-align: middle;\n",
              "    }\n",
              "\n",
              "    .dataframe tbody tr th {\n",
              "        vertical-align: top;\n",
              "    }\n",
              "\n",
              "    .dataframe thead th {\n",
              "        text-align: right;\n",
              "    }\n",
              "</style>\n",
              "<table border=\"1\" class=\"dataframe\">\n",
              "  <thead>\n",
              "    <tr style=\"text-align: right;\">\n",
              "      <th></th>\n",
              "      <th>county</th>\n",
              "      <th>Overall_Income</th>\n",
              "      <th>White_Income</th>\n",
              "      <th>Black_Income</th>\n",
              "      <th>Asian_Income</th>\n",
              "      <th>Two_Income</th>\n",
              "      <th>WhiteNH_Income</th>\n",
              "      <th>Hispanic_Income</th>\n",
              "      <th>locality_code</th>\n",
              "    </tr>\n",
              "  </thead>\n",
              "  <tbody>\n",
              "    <tr>\n",
              "      <th>0</th>\n",
              "      <td>Accomack County, Virginia</td>\n",
              "      <td>40804.625</td>\n",
              "      <td>46250.875</td>\n",
              "      <td>28754.250</td>\n",
              "      <td>57855.500</td>\n",
              "      <td>37145.800</td>\n",
              "      <td>46740.250</td>\n",
              "      <td>34997.625000</td>\n",
              "      <td>1.0</td>\n",
              "    </tr>\n",
              "    <tr>\n",
              "      <th>1</th>\n",
              "      <td>Albemarle County, Virginia</td>\n",
              "      <td>69032.750</td>\n",
              "      <td>73907.250</td>\n",
              "      <td>41864.500</td>\n",
              "      <td>67356.500</td>\n",
              "      <td>46019.375</td>\n",
              "      <td>74464.000</td>\n",
              "      <td>52064.500000</td>\n",
              "      <td>3.0</td>\n",
              "    </tr>\n",
              "    <tr>\n",
              "      <th>2</th>\n",
              "      <td>Alleghany County, Virginia</td>\n",
              "      <td>45375.625</td>\n",
              "      <td>46526.125</td>\n",
              "      <td>27639.125</td>\n",
              "      <td>87721.000</td>\n",
              "      <td>73328.250</td>\n",
              "      <td>46484.500</td>\n",
              "      <td>46432.142857</td>\n",
              "      <td>5.0</td>\n",
              "    </tr>\n",
              "    <tr>\n",
              "      <th>3</th>\n",
              "      <td>Amelia County, Virginia</td>\n",
              "      <td>54544.500</td>\n",
              "      <td>61682.375</td>\n",
              "      <td>41237.250</td>\n",
              "      <td>NaN</td>\n",
              "      <td>90784.500</td>\n",
              "      <td>61533.750</td>\n",
              "      <td>44732.500000</td>\n",
              "      <td>7.0</td>\n",
              "    </tr>\n",
              "    <tr>\n",
              "      <th>4</th>\n",
              "      <td>Amherst County, Virginia</td>\n",
              "      <td>46214.875</td>\n",
              "      <td>50589.500</td>\n",
              "      <td>31318.875</td>\n",
              "      <td>63621.800</td>\n",
              "      <td>76097.500</td>\n",
              "      <td>50752.875</td>\n",
              "      <td>33133.500000</td>\n",
              "      <td>9.0</td>\n",
              "    </tr>\n",
              "    <tr>\n",
              "      <th>...</th>\n",
              "      <td>...</td>\n",
              "      <td>...</td>\n",
              "      <td>...</td>\n",
              "      <td>...</td>\n",
              "      <td>...</td>\n",
              "      <td>...</td>\n",
              "      <td>...</td>\n",
              "      <td>...</td>\n",
              "      <td>...</td>\n",
              "    </tr>\n",
              "    <tr>\n",
              "      <th>128</th>\n",
              "      <td>Suffolk city, Virginia</td>\n",
              "      <td>66753.625</td>\n",
              "      <td>79794.500</td>\n",
              "      <td>48969.250</td>\n",
              "      <td>82849.750</td>\n",
              "      <td>72079.625</td>\n",
              "      <td>79849.750</td>\n",
              "      <td>62949.625000</td>\n",
              "      <td>800.0</td>\n",
              "    </tr>\n",
              "    <tr>\n",
              "      <th>129</th>\n",
              "      <td>Virginia Beach city, Virginia</td>\n",
              "      <td>67641.625</td>\n",
              "      <td>72598.750</td>\n",
              "      <td>52660.375</td>\n",
              "      <td>73152.750</td>\n",
              "      <td>59178.625</td>\n",
              "      <td>73214.125</td>\n",
              "      <td>58096.875000</td>\n",
              "      <td>810.0</td>\n",
              "    </tr>\n",
              "    <tr>\n",
              "      <th>130</th>\n",
              "      <td>Waynesboro city, Virginia</td>\n",
              "      <td>43969.875</td>\n",
              "      <td>46093.375</td>\n",
              "      <td>27964.750</td>\n",
              "      <td>65657.200</td>\n",
              "      <td>45589.800</td>\n",
              "      <td>46475.625</td>\n",
              "      <td>25355.000000</td>\n",
              "      <td>820.0</td>\n",
              "    </tr>\n",
              "    <tr>\n",
              "      <th>131</th>\n",
              "      <td>Williamsburg city, Virginia</td>\n",
              "      <td>51241.750</td>\n",
              "      <td>55355.000</td>\n",
              "      <td>36139.875</td>\n",
              "      <td>51330.625</td>\n",
              "      <td>50458.000</td>\n",
              "      <td>56277.500</td>\n",
              "      <td>45995.571429</td>\n",
              "      <td>830.0</td>\n",
              "    </tr>\n",
              "    <tr>\n",
              "      <th>132</th>\n",
              "      <td>Winchester city, Virginia</td>\n",
              "      <td>46927.625</td>\n",
              "      <td>48999.250</td>\n",
              "      <td>41122.500</td>\n",
              "      <td>41046.500</td>\n",
              "      <td>25980.250</td>\n",
              "      <td>51181.750</td>\n",
              "      <td>33567.625000</td>\n",
              "      <td>840.0</td>\n",
              "    </tr>\n",
              "  </tbody>\n",
              "</table>\n",
              "<p>133 rows × 9 columns</p>\n",
              "</div>"
            ],
            "text/plain": [
              "                            county  ...  locality_code\n",
              "0    Accomack County, Virginia      ...  1.0          \n",
              "1    Albemarle County, Virginia     ...  3.0          \n",
              "2    Alleghany County, Virginia     ...  5.0          \n",
              "3    Amelia County, Virginia        ...  7.0          \n",
              "4    Amherst County, Virginia       ...  9.0          \n",
              "..                        ...       ...  ...          \n",
              "128  Suffolk city, Virginia         ...  800.0        \n",
              "129  Virginia Beach city, Virginia  ...  810.0        \n",
              "130  Waynesboro city, Virginia      ...  820.0        \n",
              "131  Williamsburg city, Virginia    ...  830.0        \n",
              "132  Winchester city, Virginia      ...  840.0        \n",
              "\n",
              "[133 rows x 9 columns]"
            ]
          },
          "metadata": {
            "tags": []
          },
          "execution_count": 8
        }
      ]
    },
    {
      "cell_type": "code",
      "metadata": {
        "id": "pRq1JnHAPTo7",
        "colab": {
          "base_uri": "https://localhost:8080/",
          "height": 1000
        },
        "outputId": "f9230c9d-ee17-4925-c6dc-34b3fe5e520b"
      },
      "source": [
        "# drop the final row which contains total count cases\n",
        "demographics_raw.columns = demographics_raw.iloc[0]\n",
        "demographics = demographics_raw[1:]\n",
        "demographics = demographics.sort_values(by='id')\n",
        "demographics = demographics[1:] # removed total for all of virginia\n",
        "demographics.reset_index(drop=True, inplace=True)\n",
        "\n",
        "demographics = demographics.drop('id', axis =1 )\n",
        "demographics = demographics.drop('Geographic Area Name', axis =1 )\n",
        "\n",
        "demographics = demographics.apply(pd.to_numeric) # convert all columns of DataFrame\n",
        "demographics.info()\n",
        "demographics"
      ],
      "execution_count": null,
      "outputs": [
        {
          "output_type": "stream",
          "text": [
            "<class 'pandas.core.frame.DataFrame'>\n",
            "RangeIndex: 133 entries, 0 to 132\n",
            "Data columns (total 25 columns):\n",
            " #   Column                                                                                     Non-Null Count  Dtype  \n",
            "---  ------                                                                                     --------------  -----  \n",
            " 0   Estimate!!SEX AND AGE!!Total population                                                    133 non-null    int64  \n",
            " 1   Estimate!!SEX AND AGE!!Total population!!Male                                              133 non-null    int64  \n",
            " 2   Estimate!!SEX AND AGE!!Total population!!Female                                            133 non-null    int64  \n",
            " 3   Estimate!!SEX AND AGE!!Total population!!Under 5 years                                     133 non-null    int64  \n",
            " 4   Estimate!!SEX AND AGE!!Total population!!5 to 9 years                                      133 non-null    int64  \n",
            " 5   Estimate!!SEX AND AGE!!Total population!!10 to 14 years                                    133 non-null    int64  \n",
            " 6   Estimate!!SEX AND AGE!!Total population!!15 to 19 years                                    133 non-null    int64  \n",
            " 7   Estimate!!SEX AND AGE!!Total population!!20 to 24 years                                    133 non-null    int64  \n",
            " 8   Estimate!!SEX AND AGE!!Total population!!25 to 34 years                                    133 non-null    int64  \n",
            " 9   Estimate!!SEX AND AGE!!Total population!!35 to 44 years                                    133 non-null    int64  \n",
            " 10  Estimate!!SEX AND AGE!!Total population!!45 to 54 years                                    133 non-null    int64  \n",
            " 11  Estimate!!SEX AND AGE!!Total population!!55 to 59 years                                    133 non-null    int64  \n",
            " 12  Estimate!!SEX AND AGE!!Total population!!60 to 64 years                                    133 non-null    int64  \n",
            " 13  Estimate!!SEX AND AGE!!Total population!!65 to 74 years                                    133 non-null    int64  \n",
            " 14  Estimate!!SEX AND AGE!!Total population!!75 to 84 years                                    133 non-null    int64  \n",
            " 15  Estimate!!SEX AND AGE!!Total population!!85 years and over                                 133 non-null    int64  \n",
            " 16  Estimate!!SEX AND AGE!!Total population!!Median age (years)                                133 non-null    float64\n",
            " 17  Estimate!!RACE!!Total population                                                           133 non-null    int64  \n",
            " 18  Estimate!!RACE!!Total population!!Two or more races                                        133 non-null    int64  \n",
            " 19  Estimate!!RACE!!Total population!!One race!!White                                          133 non-null    int64  \n",
            " 20  Estimate!!RACE!!Total population!!One race!!Black or African American                      133 non-null    int64  \n",
            " 21  Estimate!!RACE!!Total population!!One race!!Asian                                          133 non-null    int64  \n",
            " 22  Estimate!!RACE!!Total population!!One race!!Some other race                                133 non-null    int64  \n",
            " 23  Estimate!!RACE!!Total population!!Two or more races                                        133 non-null    int64  \n",
            " 24  Estimate!!HISPANIC OR LATINO AND RACE!!Total population!!Hispanic or Latino (of any race)  133 non-null    int64  \n",
            "dtypes: float64(1), int64(24)\n",
            "memory usage: 26.1 KB\n"
          ],
          "name": "stdout"
        },
        {
          "output_type": "execute_result",
          "data": {
            "text/html": [
              "<div>\n",
              "<style scoped>\n",
              "    .dataframe tbody tr th:only-of-type {\n",
              "        vertical-align: middle;\n",
              "    }\n",
              "\n",
              "    .dataframe tbody tr th {\n",
              "        vertical-align: top;\n",
              "    }\n",
              "\n",
              "    .dataframe thead th {\n",
              "        text-align: right;\n",
              "    }\n",
              "</style>\n",
              "<table border=\"1\" class=\"dataframe\">\n",
              "  <thead>\n",
              "    <tr style=\"text-align: right;\">\n",
              "      <th></th>\n",
              "      <th>Estimate!!SEX AND AGE!!Total population</th>\n",
              "      <th>Estimate!!SEX AND AGE!!Total population!!Male</th>\n",
              "      <th>Estimate!!SEX AND AGE!!Total population!!Female</th>\n",
              "      <th>Estimate!!SEX AND AGE!!Total population!!Under 5 years</th>\n",
              "      <th>Estimate!!SEX AND AGE!!Total population!!5 to 9 years</th>\n",
              "      <th>Estimate!!SEX AND AGE!!Total population!!10 to 14 years</th>\n",
              "      <th>Estimate!!SEX AND AGE!!Total population!!15 to 19 years</th>\n",
              "      <th>Estimate!!SEX AND AGE!!Total population!!20 to 24 years</th>\n",
              "      <th>Estimate!!SEX AND AGE!!Total population!!25 to 34 years</th>\n",
              "      <th>Estimate!!SEX AND AGE!!Total population!!35 to 44 years</th>\n",
              "      <th>Estimate!!SEX AND AGE!!Total population!!45 to 54 years</th>\n",
              "      <th>Estimate!!SEX AND AGE!!Total population!!55 to 59 years</th>\n",
              "      <th>Estimate!!SEX AND AGE!!Total population!!60 to 64 years</th>\n",
              "      <th>Estimate!!SEX AND AGE!!Total population!!65 to 74 years</th>\n",
              "      <th>Estimate!!SEX AND AGE!!Total population!!75 to 84 years</th>\n",
              "      <th>Estimate!!SEX AND AGE!!Total population!!85 years and over</th>\n",
              "      <th>Estimate!!SEX AND AGE!!Total population!!Median age (years)</th>\n",
              "      <th>Estimate!!RACE!!Total population</th>\n",
              "      <th>Estimate!!RACE!!Total population!!Two or more races</th>\n",
              "      <th>Estimate!!RACE!!Total population!!One race!!White</th>\n",
              "      <th>Estimate!!RACE!!Total population!!One race!!Black or African American</th>\n",
              "      <th>Estimate!!RACE!!Total population!!One race!!Asian</th>\n",
              "      <th>Estimate!!RACE!!Total population!!One race!!Some other race</th>\n",
              "      <th>Estimate!!RACE!!Total population!!Two or more races</th>\n",
              "      <th>Estimate!!HISPANIC OR LATINO AND RACE!!Total population!!Hispanic or Latino (of any race)</th>\n",
              "    </tr>\n",
              "  </thead>\n",
              "  <tbody>\n",
              "    <tr>\n",
              "      <th>0</th>\n",
              "      <td>32673</td>\n",
              "      <td>15934</td>\n",
              "      <td>16739</td>\n",
              "      <td>1882</td>\n",
              "      <td>1943</td>\n",
              "      <td>1923</td>\n",
              "      <td>1684</td>\n",
              "      <td>1734</td>\n",
              "      <td>3469</td>\n",
              "      <td>3396</td>\n",
              "      <td>3884</td>\n",
              "      <td>2754</td>\n",
              "      <td>2580</td>\n",
              "      <td>4372</td>\n",
              "      <td>2086</td>\n",
              "      <td>966</td>\n",
              "      <td>45.9</td>\n",
              "      <td>32673</td>\n",
              "      <td>341</td>\n",
              "      <td>22282</td>\n",
              "      <td>9331</td>\n",
              "      <td>265</td>\n",
              "      <td>279</td>\n",
              "      <td>341</td>\n",
              "      <td>2929</td>\n",
              "    </tr>\n",
              "    <tr>\n",
              "      <th>1</th>\n",
              "      <td>107405</td>\n",
              "      <td>51363</td>\n",
              "      <td>56042</td>\n",
              "      <td>5783</td>\n",
              "      <td>6212</td>\n",
              "      <td>5910</td>\n",
              "      <td>9552</td>\n",
              "      <td>7011</td>\n",
              "      <td>13847</td>\n",
              "      <td>12415</td>\n",
              "      <td>12986</td>\n",
              "      <td>7286</td>\n",
              "      <td>7063</td>\n",
              "      <td>10954</td>\n",
              "      <td>5654</td>\n",
              "      <td>2732</td>\n",
              "      <td>39.1</td>\n",
              "      <td>107405</td>\n",
              "      <td>2605</td>\n",
              "      <td>87831</td>\n",
              "      <td>10245</td>\n",
              "      <td>5590</td>\n",
              "      <td>822</td>\n",
              "      <td>2605</td>\n",
              "      <td>6200</td>\n",
              "    </tr>\n",
              "    <tr>\n",
              "      <th>2</th>\n",
              "      <td>15157</td>\n",
              "      <td>7367</td>\n",
              "      <td>7790</td>\n",
              "      <td>673</td>\n",
              "      <td>856</td>\n",
              "      <td>742</td>\n",
              "      <td>893</td>\n",
              "      <td>765</td>\n",
              "      <td>1576</td>\n",
              "      <td>1525</td>\n",
              "      <td>2079</td>\n",
              "      <td>1173</td>\n",
              "      <td>1268</td>\n",
              "      <td>2030</td>\n",
              "      <td>1064</td>\n",
              "      <td>513</td>\n",
              "      <td>48.1</td>\n",
              "      <td>15157</td>\n",
              "      <td>172</td>\n",
              "      <td>14012</td>\n",
              "      <td>881</td>\n",
              "      <td>16</td>\n",
              "      <td>76</td>\n",
              "      <td>172</td>\n",
              "      <td>225</td>\n",
              "    </tr>\n",
              "    <tr>\n",
              "      <th>3</th>\n",
              "      <td>12953</td>\n",
              "      <td>6580</td>\n",
              "      <td>6373</td>\n",
              "      <td>763</td>\n",
              "      <td>962</td>\n",
              "      <td>556</td>\n",
              "      <td>876</td>\n",
              "      <td>513</td>\n",
              "      <td>1450</td>\n",
              "      <td>1353</td>\n",
              "      <td>1882</td>\n",
              "      <td>1417</td>\n",
              "      <td>698</td>\n",
              "      <td>1490</td>\n",
              "      <td>673</td>\n",
              "      <td>320</td>\n",
              "      <td>45.1</td>\n",
              "      <td>12953</td>\n",
              "      <td>360</td>\n",
              "      <td>9824</td>\n",
              "      <td>2745</td>\n",
              "      <td>0</td>\n",
              "      <td>0</td>\n",
              "      <td>360</td>\n",
              "      <td>390</td>\n",
              "    </tr>\n",
              "    <tr>\n",
              "      <th>4</th>\n",
              "      <td>31775</td>\n",
              "      <td>15290</td>\n",
              "      <td>16485</td>\n",
              "      <td>1724</td>\n",
              "      <td>1507</td>\n",
              "      <td>2003</td>\n",
              "      <td>1816</td>\n",
              "      <td>2002</td>\n",
              "      <td>3417</td>\n",
              "      <td>3500</td>\n",
              "      <td>4399</td>\n",
              "      <td>2566</td>\n",
              "      <td>2309</td>\n",
              "      <td>3739</td>\n",
              "      <td>2056</td>\n",
              "      <td>737</td>\n",
              "      <td>44.8</td>\n",
              "      <td>31775</td>\n",
              "      <td>1006</td>\n",
              "      <td>24381</td>\n",
              "      <td>5709</td>\n",
              "      <td>162</td>\n",
              "      <td>286</td>\n",
              "      <td>1006</td>\n",
              "      <td>766</td>\n",
              "    </tr>\n",
              "    <tr>\n",
              "      <th>...</th>\n",
              "      <td>...</td>\n",
              "      <td>...</td>\n",
              "      <td>...</td>\n",
              "      <td>...</td>\n",
              "      <td>...</td>\n",
              "      <td>...</td>\n",
              "      <td>...</td>\n",
              "      <td>...</td>\n",
              "      <td>...</td>\n",
              "      <td>...</td>\n",
              "      <td>...</td>\n",
              "      <td>...</td>\n",
              "      <td>...</td>\n",
              "      <td>...</td>\n",
              "      <td>...</td>\n",
              "      <td>...</td>\n",
              "      <td>...</td>\n",
              "      <td>...</td>\n",
              "      <td>...</td>\n",
              "      <td>...</td>\n",
              "      <td>...</td>\n",
              "      <td>...</td>\n",
              "      <td>...</td>\n",
              "      <td>...</td>\n",
              "      <td>...</td>\n",
              "    </tr>\n",
              "    <tr>\n",
              "      <th>128</th>\n",
              "      <td>90093</td>\n",
              "      <td>43698</td>\n",
              "      <td>46395</td>\n",
              "      <td>5959</td>\n",
              "      <td>6129</td>\n",
              "      <td>6183</td>\n",
              "      <td>5696</td>\n",
              "      <td>5154</td>\n",
              "      <td>12182</td>\n",
              "      <td>11489</td>\n",
              "      <td>12748</td>\n",
              "      <td>6085</td>\n",
              "      <td>5704</td>\n",
              "      <td>7778</td>\n",
              "      <td>3535</td>\n",
              "      <td>1451</td>\n",
              "      <td>38.0</td>\n",
              "      <td>90093</td>\n",
              "      <td>3410</td>\n",
              "      <td>46357</td>\n",
              "      <td>37648</td>\n",
              "      <td>1770</td>\n",
              "      <td>704</td>\n",
              "      <td>3410</td>\n",
              "      <td>3937</td>\n",
              "    </tr>\n",
              "    <tr>\n",
              "      <th>129</th>\n",
              "      <td>450201</td>\n",
              "      <td>221324</td>\n",
              "      <td>228877</td>\n",
              "      <td>28576</td>\n",
              "      <td>27474</td>\n",
              "      <td>27795</td>\n",
              "      <td>26688</td>\n",
              "      <td>32609</td>\n",
              "      <td>74440</td>\n",
              "      <td>58680</td>\n",
              "      <td>57267</td>\n",
              "      <td>29025</td>\n",
              "      <td>25843</td>\n",
              "      <td>36542</td>\n",
              "      <td>18046</td>\n",
              "      <td>7216</td>\n",
              "      <td>36.2</td>\n",
              "      <td>450201</td>\n",
              "      <td>25113</td>\n",
              "      <td>298347</td>\n",
              "      <td>85609</td>\n",
              "      <td>30130</td>\n",
              "      <td>9285</td>\n",
              "      <td>25113</td>\n",
              "      <td>36785</td>\n",
              "    </tr>\n",
              "    <tr>\n",
              "      <th>130</th>\n",
              "      <td>22140</td>\n",
              "      <td>10836</td>\n",
              "      <td>11304</td>\n",
              "      <td>1410</td>\n",
              "      <td>1659</td>\n",
              "      <td>1423</td>\n",
              "      <td>1182</td>\n",
              "      <td>1134</td>\n",
              "      <td>3234</td>\n",
              "      <td>2813</td>\n",
              "      <td>2608</td>\n",
              "      <td>1404</td>\n",
              "      <td>1369</td>\n",
              "      <td>2087</td>\n",
              "      <td>1257</td>\n",
              "      <td>560</td>\n",
              "      <td>39.2</td>\n",
              "      <td>22140</td>\n",
              "      <td>472</td>\n",
              "      <td>18025</td>\n",
              "      <td>3149</td>\n",
              "      <td>239</td>\n",
              "      <td>73</td>\n",
              "      <td>472</td>\n",
              "      <td>1788</td>\n",
              "    </tr>\n",
              "    <tr>\n",
              "      <th>131</th>\n",
              "      <td>14927</td>\n",
              "      <td>6929</td>\n",
              "      <td>7998</td>\n",
              "      <td>515</td>\n",
              "      <td>475</td>\n",
              "      <td>281</td>\n",
              "      <td>2874</td>\n",
              "      <td>3343</td>\n",
              "      <td>1799</td>\n",
              "      <td>834</td>\n",
              "      <td>1071</td>\n",
              "      <td>642</td>\n",
              "      <td>751</td>\n",
              "      <td>1288</td>\n",
              "      <td>838</td>\n",
              "      <td>216</td>\n",
              "      <td>24.9</td>\n",
              "      <td>14927</td>\n",
              "      <td>535</td>\n",
              "      <td>10961</td>\n",
              "      <td>2246</td>\n",
              "      <td>963</td>\n",
              "      <td>169</td>\n",
              "      <td>535</td>\n",
              "      <td>1053</td>\n",
              "    </tr>\n",
              "    <tr>\n",
              "      <th>132</th>\n",
              "      <td>27897</td>\n",
              "      <td>13694</td>\n",
              "      <td>14203</td>\n",
              "      <td>1872</td>\n",
              "      <td>1882</td>\n",
              "      <td>1606</td>\n",
              "      <td>2226</td>\n",
              "      <td>1775</td>\n",
              "      <td>3704</td>\n",
              "      <td>3239</td>\n",
              "      <td>3958</td>\n",
              "      <td>1594</td>\n",
              "      <td>1598</td>\n",
              "      <td>2534</td>\n",
              "      <td>1339</td>\n",
              "      <td>570</td>\n",
              "      <td>38.1</td>\n",
              "      <td>27897</td>\n",
              "      <td>1183</td>\n",
              "      <td>22878</td>\n",
              "      <td>2808</td>\n",
              "      <td>624</td>\n",
              "      <td>330</td>\n",
              "      <td>1183</td>\n",
              "      <td>4958</td>\n",
              "    </tr>\n",
              "  </tbody>\n",
              "</table>\n",
              "<p>133 rows × 25 columns</p>\n",
              "</div>"
            ],
            "text/plain": [
              "0    Estimate!!SEX AND AGE!!Total population  ...  Estimate!!HISPANIC OR LATINO AND RACE!!Total population!!Hispanic or Latino (of any race)\n",
              "0    32673                                    ...  2929                                                                                     \n",
              "1    107405                                   ...  6200                                                                                     \n",
              "2    15157                                    ...  225                                                                                      \n",
              "3    12953                                    ...  390                                                                                      \n",
              "4    31775                                    ...  766                                                                                      \n",
              "..     ...                                    ...  ...                                                                                      \n",
              "128  90093                                    ...  3937                                                                                     \n",
              "129  450201                                   ...  36785                                                                                    \n",
              "130  22140                                    ...  1788                                                                                     \n",
              "131  14927                                    ...  1053                                                                                     \n",
              "132  27897                                    ...  4958                                                                                     \n",
              "\n",
              "[133 rows x 25 columns]"
            ]
          },
          "metadata": {
            "tags": []
          },
          "execution_count": 9
        }
      ]
    },
    {
      "cell_type": "code",
      "metadata": {
        "id": "sTa0o4y8cgnZ"
      },
      "source": [
        "#We combined are data externaly and imported it back in here\n",
        "total_data = pd.read_csv(\"https://raw.githubusercontent.com/dszabo236/cs4774Assigments/main/final_Data/total_data.csv\")\n",
        "total_data\n",
        "total_data = total_data.drop(['Unnamed: 0','id','Geographic Area Name'], axis = 1)"
      ],
      "execution_count": null,
      "outputs": []
    },
    {
      "cell_type": "code",
      "metadata": {
        "id": "3q3Xl1Isefcb",
        "colab": {
          "base_uri": "https://localhost:8080/"
        },
        "outputId": "e1c531e4-bbbf-4029-84b2-751dfb6c0227"
      },
      "source": [
        "demographics['Estimate!!SEX AND AGE!!Total population!!Male']"
      ],
      "execution_count": null,
      "outputs": [
        {
          "output_type": "execute_result",
          "data": {
            "text/plain": [
              "0      15934 \n",
              "1      51363 \n",
              "2      7367  \n",
              "3      6580  \n",
              "4      15290 \n",
              "       ...   \n",
              "128    43698 \n",
              "129    221324\n",
              "130    10836 \n",
              "131    6929  \n",
              "132    13694 \n",
              "Name: Estimate!!SEX AND AGE!!Total population!!Male, Length: 133, dtype: int64"
            ]
          },
          "metadata": {
            "tags": []
          },
          "execution_count": 11
        }
      ]
    },
    {
      "cell_type": "code",
      "metadata": {
        "colab": {
          "base_uri": "https://localhost:8080/"
        },
        "id": "-XZu1AcDcxPP",
        "outputId": "eeb992cf-8983-4126-90d3-6e371a06246c"
      },
      "source": [
        "total_data.info()"
      ],
      "execution_count": null,
      "outputs": [
        {
          "output_type": "stream",
          "text": [
            "<class 'pandas.core.frame.DataFrame'>\n",
            "RangeIndex: 133 entries, 0 to 132\n",
            "Data columns (total 35 columns):\n",
            " #   Column                                                                                     Non-Null Count  Dtype  \n",
            "---  ------                                                                                     --------------  -----  \n",
            " 0   Estimate!!SEX AND AGE!!Total population                                                    133 non-null    float64\n",
            " 1   Estimate!!SEX AND AGE!!Total population!!Male                                              133 non-null    float64\n",
            " 2   Estimate!!SEX AND AGE!!Total population!!Female                                            133 non-null    float64\n",
            " 3   Estimate!!SEX AND AGE!!Total population!!Under 5 years                                     133 non-null    float64\n",
            " 4   Estimate!!SEX AND AGE!!Total population!!5 to 9 years                                      133 non-null    float64\n",
            " 5   Estimate!!SEX AND AGE!!Total population!!10 to 14 years                                    133 non-null    float64\n",
            " 6   Estimate!!SEX AND AGE!!Total population!!15 to 19 years                                    133 non-null    float64\n",
            " 7   Estimate!!SEX AND AGE!!Total population!!20 to 24 years                                    133 non-null    float64\n",
            " 8   Estimate!!SEX AND AGE!!Total population!!25 to 34 years                                    133 non-null    float64\n",
            " 9   Estimate!!SEX AND AGE!!Total population!!35 to 44 years                                    133 non-null    float64\n",
            " 10  Estimate!!SEX AND AGE!!Total population!!45 to 54 years                                    133 non-null    float64\n",
            " 11  Estimate!!SEX AND AGE!!Total population!!55 to 59 years                                    133 non-null    float64\n",
            " 12  Estimate!!SEX AND AGE!!Total population!!60 to 64 years                                    133 non-null    float64\n",
            " 13  Estimate!!SEX AND AGE!!Total population!!65 to 74 years                                    133 non-null    float64\n",
            " 14  Estimate!!SEX AND AGE!!Total population!!75 to 84 years                                    133 non-null    float64\n",
            " 15  Estimate!!SEX AND AGE!!Total population!!85 years and over                                 133 non-null    float64\n",
            " 16  Estimate!!SEX AND AGE!!Total population!!Median age (years)                                133 non-null    float64\n",
            " 17  Estimate!!RACE!!Total population                                                           133 non-null    float64\n",
            " 18  Estimate!!RACE!!Total population!!Two or more races                                        133 non-null    float64\n",
            " 19  Estimate!!RACE!!Total population!!One race!!White                                          133 non-null    float64\n",
            " 20  Estimate!!RACE!!Total population!!One race!!Black or African American                      133 non-null    float64\n",
            " 21  Estimate!!RACE!!Total population!!One race!!Asian                                          133 non-null    float64\n",
            " 22  Estimate!!RACE!!Total population!!One race!!Some other race                                133 non-null    float64\n",
            " 23  Estimate!!RACE!!Total population!!Two or more races.1                                      133 non-null    float64\n",
            " 24  Estimate!!HISPANIC OR LATINO AND RACE!!Total population!!Hispanic or Latino (of any race)  133 non-null    float64\n",
            " 25  Overall_Income                                                                             133 non-null    float64\n",
            " 26  White_Income                                                                               133 non-null    float64\n",
            " 27  Black_Income                                                                               131 non-null    float64\n",
            " 28  Asian_Income                                                                               106 non-null    float64\n",
            " 29  Two_Income                                                                                 126 non-null    float64\n",
            " 30  WhiteNH_Income                                                                             133 non-null    float64\n",
            " 31  Hispanic_Income                                                                            127 non-null    float64\n",
            " 32  Total_Cases                                                                                133 non-null    float64\n",
            " 33  Hospitalizations                                                                           133 non-null    float64\n",
            " 34  Deaths                                                                                     133 non-null    float64\n",
            "dtypes: float64(35)\n",
            "memory usage: 36.5 KB\n"
          ],
          "name": "stdout"
        }
      ]
    },
    {
      "cell_type": "markdown",
      "metadata": {
        "id": "lTXGJFJETGkH"
      },
      "source": [
        "# VISUALIZATION"
      ]
    },
    {
      "cell_type": "code",
      "metadata": {
        "colab": {
          "base_uri": "https://localhost:8080/"
        },
        "id": "ruUti1EoZndQ",
        "outputId": "7b59f137-1fa2-4189-a3cf-1d3798642a49"
      },
      "source": [
        "total_data.info()"
      ],
      "execution_count": null,
      "outputs": [
        {
          "output_type": "stream",
          "text": [
            "<class 'pandas.core.frame.DataFrame'>\n",
            "RangeIndex: 133 entries, 0 to 132\n",
            "Data columns (total 35 columns):\n",
            " #   Column                                                                                     Non-Null Count  Dtype  \n",
            "---  ------                                                                                     --------------  -----  \n",
            " 0   Estimate!!SEX AND AGE!!Total population                                                    133 non-null    float64\n",
            " 1   Estimate!!SEX AND AGE!!Total population!!Male                                              133 non-null    float64\n",
            " 2   Estimate!!SEX AND AGE!!Total population!!Female                                            133 non-null    float64\n",
            " 3   Estimate!!SEX AND AGE!!Total population!!Under 5 years                                     133 non-null    float64\n",
            " 4   Estimate!!SEX AND AGE!!Total population!!5 to 9 years                                      133 non-null    float64\n",
            " 5   Estimate!!SEX AND AGE!!Total population!!10 to 14 years                                    133 non-null    float64\n",
            " 6   Estimate!!SEX AND AGE!!Total population!!15 to 19 years                                    133 non-null    float64\n",
            " 7   Estimate!!SEX AND AGE!!Total population!!20 to 24 years                                    133 non-null    float64\n",
            " 8   Estimate!!SEX AND AGE!!Total population!!25 to 34 years                                    133 non-null    float64\n",
            " 9   Estimate!!SEX AND AGE!!Total population!!35 to 44 years                                    133 non-null    float64\n",
            " 10  Estimate!!SEX AND AGE!!Total population!!45 to 54 years                                    133 non-null    float64\n",
            " 11  Estimate!!SEX AND AGE!!Total population!!55 to 59 years                                    133 non-null    float64\n",
            " 12  Estimate!!SEX AND AGE!!Total population!!60 to 64 years                                    133 non-null    float64\n",
            " 13  Estimate!!SEX AND AGE!!Total population!!65 to 74 years                                    133 non-null    float64\n",
            " 14  Estimate!!SEX AND AGE!!Total population!!75 to 84 years                                    133 non-null    float64\n",
            " 15  Estimate!!SEX AND AGE!!Total population!!85 years and over                                 133 non-null    float64\n",
            " 16  Estimate!!SEX AND AGE!!Total population!!Median age (years)                                133 non-null    float64\n",
            " 17  Estimate!!RACE!!Total population                                                           133 non-null    float64\n",
            " 18  Estimate!!RACE!!Total population!!Two or more races                                        133 non-null    float64\n",
            " 19  Estimate!!RACE!!Total population!!One race!!White                                          133 non-null    float64\n",
            " 20  Estimate!!RACE!!Total population!!One race!!Black or African American                      133 non-null    float64\n",
            " 21  Estimate!!RACE!!Total population!!One race!!Asian                                          133 non-null    float64\n",
            " 22  Estimate!!RACE!!Total population!!One race!!Some other race                                133 non-null    float64\n",
            " 23  Estimate!!RACE!!Total population!!Two or more races.1                                      133 non-null    float64\n",
            " 24  Estimate!!HISPANIC OR LATINO AND RACE!!Total population!!Hispanic or Latino (of any race)  133 non-null    float64\n",
            " 25  Overall_Income                                                                             133 non-null    float64\n",
            " 26  White_Income                                                                               133 non-null    float64\n",
            " 27  Black_Income                                                                               131 non-null    float64\n",
            " 28  Asian_Income                                                                               106 non-null    float64\n",
            " 29  Two_Income                                                                                 126 non-null    float64\n",
            " 30  WhiteNH_Income                                                                             133 non-null    float64\n",
            " 31  Hispanic_Income                                                                            127 non-null    float64\n",
            " 32  Total_Cases                                                                                133 non-null    float64\n",
            " 33  Hospitalizations                                                                           133 non-null    float64\n",
            " 34  Deaths                                                                                     133 non-null    float64\n",
            "dtypes: float64(35)\n",
            "memory usage: 36.5 KB\n"
          ],
          "name": "stdout"
        }
      ]
    },
    {
      "cell_type": "code",
      "metadata": {
        "colab": {
          "base_uri": "https://localhost:8080/"
        },
        "id": "DJfBMz8TU5YJ",
        "outputId": "401d5561-9651-4afe-d02d-3c7d3618093b"
      },
      "source": [
        "from sklearn.model_selection import train_test_split\n",
        "\n",
        "train_set, test_set = train_test_split(total_data, test_size=0.2, random_state=42)\n",
        "print( train_set.shape )\n",
        "print( test_set.shape ) # No peeking at the test data though (data snooping bias)"
      ],
      "execution_count": null,
      "outputs": [
        {
          "output_type": "stream",
          "text": [
            "(106, 35)\n",
            "(27, 35)\n"
          ],
          "name": "stdout"
        }
      ]
    },
    {
      "cell_type": "code",
      "metadata": {
        "colab": {
          "base_uri": "https://localhost:8080/"
        },
        "id": "wEisrOjZbq5z",
        "outputId": "7c0b7299-4f4d-467c-b73b-9bdf467f5d38"
      },
      "source": [
        "train_set.info()"
      ],
      "execution_count": null,
      "outputs": [
        {
          "output_type": "stream",
          "text": [
            "<class 'pandas.core.frame.DataFrame'>\n",
            "Int64Index: 106 entries, 125 to 102\n",
            "Data columns (total 35 columns):\n",
            " #   Column                                                                                     Non-Null Count  Dtype  \n",
            "---  ------                                                                                     --------------  -----  \n",
            " 0   Estimate!!SEX AND AGE!!Total population                                                    106 non-null    float64\n",
            " 1   Estimate!!SEX AND AGE!!Total population!!Male                                              106 non-null    float64\n",
            " 2   Estimate!!SEX AND AGE!!Total population!!Female                                            106 non-null    float64\n",
            " 3   Estimate!!SEX AND AGE!!Total population!!Under 5 years                                     106 non-null    float64\n",
            " 4   Estimate!!SEX AND AGE!!Total population!!5 to 9 years                                      106 non-null    float64\n",
            " 5   Estimate!!SEX AND AGE!!Total population!!10 to 14 years                                    106 non-null    float64\n",
            " 6   Estimate!!SEX AND AGE!!Total population!!15 to 19 years                                    106 non-null    float64\n",
            " 7   Estimate!!SEX AND AGE!!Total population!!20 to 24 years                                    106 non-null    float64\n",
            " 8   Estimate!!SEX AND AGE!!Total population!!25 to 34 years                                    106 non-null    float64\n",
            " 9   Estimate!!SEX AND AGE!!Total population!!35 to 44 years                                    106 non-null    float64\n",
            " 10  Estimate!!SEX AND AGE!!Total population!!45 to 54 years                                    106 non-null    float64\n",
            " 11  Estimate!!SEX AND AGE!!Total population!!55 to 59 years                                    106 non-null    float64\n",
            " 12  Estimate!!SEX AND AGE!!Total population!!60 to 64 years                                    106 non-null    float64\n",
            " 13  Estimate!!SEX AND AGE!!Total population!!65 to 74 years                                    106 non-null    float64\n",
            " 14  Estimate!!SEX AND AGE!!Total population!!75 to 84 years                                    106 non-null    float64\n",
            " 15  Estimate!!SEX AND AGE!!Total population!!85 years and over                                 106 non-null    float64\n",
            " 16  Estimate!!SEX AND AGE!!Total population!!Median age (years)                                106 non-null    float64\n",
            " 17  Estimate!!RACE!!Total population                                                           106 non-null    float64\n",
            " 18  Estimate!!RACE!!Total population!!Two or more races                                        106 non-null    float64\n",
            " 19  Estimate!!RACE!!Total population!!One race!!White                                          106 non-null    float64\n",
            " 20  Estimate!!RACE!!Total population!!One race!!Black or African American                      106 non-null    float64\n",
            " 21  Estimate!!RACE!!Total population!!One race!!Asian                                          106 non-null    float64\n",
            " 22  Estimate!!RACE!!Total population!!One race!!Some other race                                106 non-null    float64\n",
            " 23  Estimate!!RACE!!Total population!!Two or more races.1                                      106 non-null    float64\n",
            " 24  Estimate!!HISPANIC OR LATINO AND RACE!!Total population!!Hispanic or Latino (of any race)  106 non-null    float64\n",
            " 25  Overall_Income                                                                             106 non-null    float64\n",
            " 26  White_Income                                                                               106 non-null    float64\n",
            " 27  Black_Income                                                                               105 non-null    float64\n",
            " 28  Asian_Income                                                                               86 non-null     float64\n",
            " 29  Two_Income                                                                                 101 non-null    float64\n",
            " 30  WhiteNH_Income                                                                             106 non-null    float64\n",
            " 31  Hispanic_Income                                                                            102 non-null    float64\n",
            " 32  Total_Cases                                                                                106 non-null    float64\n",
            " 33  Hospitalizations                                                                           106 non-null    float64\n",
            " 34  Deaths                                                                                     106 non-null    float64\n",
            "dtypes: float64(35)\n",
            "memory usage: 29.8 KB\n"
          ],
          "name": "stdout"
        }
      ]
    },
    {
      "cell_type": "code",
      "metadata": {
        "colab": {
          "base_uri": "https://localhost:8080/",
          "height": 725
        },
        "id": "SLGbVZfJS6zU",
        "outputId": "0e951955-d267-477e-b26a-0f639eb5bb4f"
      },
      "source": [
        "%matplotlib inline\n",
        "import matplotlib.pyplot as plt\n",
        "from pandas.plotting import scatter_matrix # optional\n",
        "\n",
        "total_data.hist(bins=50, figsize=(20,15))\n",
        "plt.show()"
      ],
      "execution_count": null,
      "outputs": [
        {
          "output_type": "display_data",
          "data": {
            "image/png": "[encoded data removed]",
            "text/plain": [
              "<Figure size 1440x1080 with 36 Axes>"
            ]
          },
          "metadata": {
            "tags": [],
            "needs_background": "light"
          }
        }
      ]
    },
    {
      "cell_type": "code",
      "metadata": {
        "colab": {
          "base_uri": "https://localhost:8080/",
          "height": 1000
        },
        "id": "7CN4QuQoTUlS",
        "outputId": "188a36b7-0a3d-4653-d52e-7b5e1a63f823"
      },
      "source": [
        "attributes = [\"Total_Cases\", \"Hospitalizations\", \"Deaths\",\n",
        "              \"Overall_Income\",\"White_Income\", \"Black_Income\",\"Asian_Income\", \"Hispanic_Income\"]\n",
        "scatter_matrix(total_data[attributes], figsize=(20, 20))"
      ],
      "execution_count": null,
      "outputs": [
        {
          "output_type": "execute_result",
          "data": {
            "text/plain": [
              "array([[<matplotlib.axes._subplots.AxesSubplot object at 0x7fb04b6c1c90>,\n",
              "        <matplotlib.axes._subplots.AxesSubplot object at 0x7fb049c8ad90>,\n",
              "        <matplotlib.axes._subplots.AxesSubplot object at 0x7fb0481e2310>,\n",
              "        <matplotlib.axes._subplots.AxesSubplot object at 0x7fb0481f36d0>,\n",
              "        <matplotlib.axes._subplots.AxesSubplot object at 0x7fb048206c90>,\n",
              "        <matplotlib.axes._subplots.AxesSubplot object at 0x7fb04821e250>,\n",
              "        <matplotlib.axes._subplots.AxesSubplot object at 0x7fb0481b17d0>,\n",
              "        <matplotlib.axes._subplots.AxesSubplot object at 0x7fb0481c5d50>],\n",
              "       [<matplotlib.axes._subplots.AxesSubplot object at 0x7fb0481dd350>,\n",
              "        <matplotlib.axes._subplots.AxesSubplot object at 0x7fb0481718d0>,\n",
              "        <matplotlib.axes._subplots.AxesSubplot object at 0x7fb048189e10>,\n",
              "        <matplotlib.axes._subplots.AxesSubplot object at 0x7fb0481403d0>,\n",
              "        <matplotlib.axes._subplots.AxesSubplot object at 0x7fb0480f7950>,\n",
              "        <matplotlib.axes._subplots.AxesSubplot object at 0x7fb0480aced0>,\n",
              "        <matplotlib.axes._subplots.AxesSubplot object at 0x7fb048070490>,\n",
              "        <matplotlib.axes._subplots.AxesSubplot object at 0x7fb048025a10>],\n",
              "       [<matplotlib.axes._subplots.AxesSubplot object at 0x7fb048051c10>,\n",
              "        <matplotlib.axes._subplots.AxesSubplot object at 0x7fb04801e550>,\n",
              "        <matplotlib.axes._subplots.AxesSubplot object at 0x7fb047fd4ad0>,\n",
              "        <matplotlib.axes._subplots.AxesSubplot object at 0x7fb047f95090>,\n",
              "        <matplotlib.axes._subplots.AxesSubplot object at 0x7fb047f4b610>,\n",
              "        <matplotlib.axes._subplots.AxesSubplot object at 0x7fb047f01b90>,\n",
              "        <matplotlib.axes._subplots.AxesSubplot object at 0x7fb047ec2150>,\n",
              "        <matplotlib.axes._subplots.AxesSubplot object at 0x7fb047e786d0>],\n",
              "       [<matplotlib.axes._subplots.AxesSubplot object at 0x7fb047e2dc50>,\n",
              "        <matplotlib.axes._subplots.AxesSubplot object at 0x7fb047def210>,\n",
              "        <matplotlib.axes._subplots.AxesSubplot object at 0x7fb047da7790>,\n",
              "        <matplotlib.axes._subplots.AxesSubplot object at 0x7fb047ddbd10>,\n",
              "        <matplotlib.axes._subplots.AxesSubplot object at 0x7fb047d1f2d0>,\n",
              "        <matplotlib.axes._subplots.AxesSubplot object at 0x7fb047d53850>,\n",
              "        <matplotlib.axes._subplots.AxesSubplot object at 0x7fb047d0bdd0>,\n",
              "        <matplotlib.axes._subplots.AxesSubplot object at 0x7fb047ccd390>],\n",
              "       [<matplotlib.axes._subplots.AxesSubplot object at 0x7fb047c83910>,\n",
              "        <matplotlib.axes._subplots.AxesSubplot object at 0x7fb04b72f990>,\n",
              "        <matplotlib.axes._subplots.AxesSubplot object at 0x7fb04b713e50>,\n",
              "        <matplotlib.axes._subplots.AxesSubplot object at 0x7fb04b34d2d0>,\n",
              "        <matplotlib.axes._subplots.AxesSubplot object at 0x7fb04b240cd0>,\n",
              "        <matplotlib.axes._subplots.AxesSubplot object at 0x7fb049d69910>,\n",
              "        <matplotlib.axes._subplots.AxesSubplot object at 0x7fb049cc3f10>,\n",
              "        <matplotlib.axes._subplots.AxesSubplot object at 0x7fb049da6410>],\n",
              "       [<matplotlib.axes._subplots.AxesSubplot object at 0x7fb04a7c6f50>,\n",
              "        <matplotlib.axes._subplots.AxesSubplot object at 0x7fb049c90d10>,\n",
              "        <matplotlib.axes._subplots.AxesSubplot object at 0x7fb04a7af050>,\n",
              "        <matplotlib.axes._subplots.AxesSubplot object at 0x7fb04aa25110>,\n",
              "        <matplotlib.axes._subplots.AxesSubplot object at 0x7fb04ab24490>,\n",
              "        <matplotlib.axes._subplots.AxesSubplot object at 0x7fb049c27d90>,\n",
              "        <matplotlib.axes._subplots.AxesSubplot object at 0x7fb04a5ce110>,\n",
              "        <matplotlib.axes._subplots.AxesSubplot object at 0x7fb04bcae3d0>],\n",
              "       [<matplotlib.axes._subplots.AxesSubplot object at 0x7fb049d05c10>,\n",
              "        <matplotlib.axes._subplots.AxesSubplot object at 0x7fb04ac7e310>,\n",
              "        <matplotlib.axes._subplots.AxesSubplot object at 0x7fb049cd8c10>,\n",
              "        <matplotlib.axes._subplots.AxesSubplot object at 0x7fb04b94e190>,\n",
              "        <matplotlib.axes._subplots.AxesSubplot object at 0x7fb04b87d610>,\n",
              "        <matplotlib.axes._subplots.AxesSubplot object at 0x7fb04a2a6b10>,\n",
              "        <matplotlib.axes._subplots.AxesSubplot object at 0x7fb04b3b2f50>,\n",
              "        <matplotlib.axes._subplots.AxesSubplot object at 0x7fb04bf55890>],\n",
              "       [<matplotlib.axes._subplots.AxesSubplot object at 0x7fb04a650590>,\n",
              "        <matplotlib.axes._subplots.AxesSubplot object at 0x7fb04a64ad10>,\n",
              "        <matplotlib.axes._subplots.AxesSubplot object at 0x7fb04a71f2d0>,\n",
              "        <matplotlib.axes._subplots.AxesSubplot object at 0x7fb04a6f5950>,\n",
              "        <matplotlib.axes._subplots.AxesSubplot object at 0x7fb04a5e0c50>,\n",
              "        <matplotlib.axes._subplots.AxesSubplot object at 0x7fb04a549690>,\n",
              "        <matplotlib.axes._subplots.AxesSubplot object at 0x7fb04a511790>,\n",
              "        <matplotlib.axes._subplots.AxesSubplot object at 0x7fb04a5a7d10>]],\n",
              "      dtype=object)"
            ]
          },
          "metadata": {
            "tags": []
          },
          "execution_count": 17
        },
        {
          "output_type": "display_data",
          "data": {
            "image/png": "[encoded data removed]",
            "text/plain": [
              "<Figure size 1440x1440 with 64 Axes>"
            ]
          },
          "metadata": {
            "tags": [],
            "needs_background": "light"
          }
        }
      ]
    },
    {
      "cell_type": "code",
      "metadata": {
        "colab": {
          "base_uri": "https://localhost:8080/"
        },
        "id": "hOv7v6efTFge",
        "outputId": "0e719c6f-8b9c-4ca9-9d97-7cba48606697"
      },
      "source": [
        "corr_matrix = total_data.corr()\n",
        "corr_matrix.shape"
      ],
      "execution_count": null,
      "outputs": [
        {
          "output_type": "execute_result",
          "data": {
            "text/plain": [
              "(35, 35)"
            ]
          },
          "metadata": {
            "tags": []
          },
          "execution_count": 18
        }
      ]
    },
    {
      "cell_type": "code",
      "metadata": {
        "colab": {
          "base_uri": "https://localhost:8080/"
        },
        "id": "38w_vNZjURFs",
        "outputId": "a053b195-0c10-4471-a096-d4032c0146cc"
      },
      "source": [
        "corr_matrix[\"Deaths\"].sort_values(ascending=False)"
      ],
      "execution_count": null,
      "outputs": [
        {
          "output_type": "execute_result",
          "data": {
            "text/plain": [
              "Deaths                                                                                       1.000000\n",
              "Estimate!!SEX AND AGE!!Total population!!85 years and over                                   0.960477\n",
              "Total_Cases                                                                                  0.959627\n",
              "Estimate!!SEX AND AGE!!Total population!!60 to 64 years                                      0.959033\n",
              "Estimate!!SEX AND AGE!!Total population!!65 to 74 years                                      0.958351\n",
              "Estimate!!SEX AND AGE!!Total population!!Female                                              0.958337\n",
              "Estimate!!SEX AND AGE!!Total population!!55 to 59 years                                      0.957025\n",
              "Hospitalizations                                                                             0.956559\n",
              "Estimate!!RACE!!Total population                                                             0.955612\n",
              "Estimate!!SEX AND AGE!!Total population                                                      0.955612\n",
              "Estimate!!SEX AND AGE!!Total population!!Male                                                0.952451\n",
              "Estimate!!SEX AND AGE!!Total population!!75 to 84 years                                      0.951956\n",
              "Estimate!!SEX AND AGE!!Total population!!Under 5 years                                       0.948461\n",
              "Estimate!!SEX AND AGE!!Total population!!45 to 54 years                                      0.945512\n",
              "Estimate!!SEX AND AGE!!Total population!!5 to 9 years                                        0.941868\n",
              "Estimate!!SEX AND AGE!!Total population!!15 to 19 years                                      0.940520\n",
              "Estimate!!SEX AND AGE!!Total population!!35 to 44 years                                      0.939906\n",
              "Estimate!!SEX AND AGE!!Total population!!10 to 14 years                                      0.939674\n",
              "Estimate!!SEX AND AGE!!Total population!!25 to 34 years                                      0.939487\n",
              "Estimate!!RACE!!Total population!!One race!!White                                            0.937742\n",
              "Estimate!!SEX AND AGE!!Total population!!20 to 24 years                                      0.918295\n",
              "Estimate!!RACE!!Total population!!Two or more races                                          0.916446\n",
              "Estimate!!RACE!!Total population!!Two or more races.1                                        0.916446\n",
              "Estimate!!HISPANIC OR LATINO AND RACE!!Total population!!Hispanic or Latino (of any race)    0.865357\n",
              "Estimate!!RACE!!Total population!!One race!!Some other race                                  0.853901\n",
              "Estimate!!RACE!!Total population!!One race!!Black or African American                        0.842708\n",
              "Estimate!!RACE!!Total population!!One race!!Asian                                            0.823039\n",
              "WhiteNH_Income                                                                               0.411107\n",
              "White_Income                                                                                 0.397905\n",
              "Overall_Income                                                                               0.365953\n",
              "Black_Income                                                                                 0.291836\n",
              "Asian_Income                                                                                 0.104878\n",
              "Two_Income                                                                                   0.083965\n",
              "Hispanic_Income                                                                              0.038588\n",
              "Estimate!!SEX AND AGE!!Total population!!Median age (years)                                 -0.272656\n",
              "Name: Deaths, dtype: float64"
            ]
          },
          "metadata": {
            "tags": []
          },
          "execution_count": 19
        }
      ]
    },
    {
      "cell_type": "code",
      "metadata": {
        "colab": {
          "base_uri": "https://localhost:8080/"
        },
        "id": "i5MywMYhUWUg",
        "outputId": "dbeeb30a-f6b9-4a56-dd15-4b02af538181"
      },
      "source": [
        "corr_matrix[\"Total_Cases\"].sort_values(ascending=False)"
      ],
      "execution_count": null,
      "outputs": [
        {
          "output_type": "execute_result",
          "data": {
            "text/plain": [
              "Total_Cases                                                                                  1.000000\n",
              "Estimate!!SEX AND AGE!!Total population!!Under 5 years                                       0.989603\n",
              "Estimate!!SEX AND AGE!!Total population!!Female                                              0.988615\n",
              "Estimate!!RACE!!Total population                                                             0.988548\n",
              "Estimate!!SEX AND AGE!!Total population                                                      0.988548\n",
              "Estimate!!SEX AND AGE!!Total population!!Male                                                0.988096\n",
              "Estimate!!SEX AND AGE!!Total population!!5 to 9 years                                        0.985581\n",
              "Estimate!!SEX AND AGE!!Total population!!10 to 14 years                                      0.984414\n",
              "Estimate!!SEX AND AGE!!Total population!!15 to 19 years                                      0.983088\n",
              "Estimate!!SEX AND AGE!!Total population!!55 to 59 years                                      0.982964\n",
              "Estimate!!SEX AND AGE!!Total population!!45 to 54 years                                      0.982361\n",
              "Estimate!!SEX AND AGE!!Total population!!35 to 44 years                                      0.981959\n",
              "Estimate!!RACE!!Total population!!Two or more races.1                                        0.978348\n",
              "Estimate!!RACE!!Total population!!Two or more races                                          0.978348\n",
              "Hospitalizations                                                                             0.976940\n",
              "Estimate!!RACE!!Total population!!One race!!White                                            0.976710\n",
              "Estimate!!SEX AND AGE!!Total population!!60 to 64 years                                      0.974259\n",
              "Estimate!!SEX AND AGE!!Total population!!25 to 34 years                                      0.970255\n",
              "Estimate!!SEX AND AGE!!Total population!!65 to 74 years                                      0.968208\n",
              "Deaths                                                                                       0.959627\n",
              "Estimate!!SEX AND AGE!!Total population!!75 to 84 years                                      0.959131\n",
              "Estimate!!SEX AND AGE!!Total population!!20 to 24 years                                      0.955901\n",
              "Estimate!!SEX AND AGE!!Total population!!85 years and over                                   0.937772\n",
              "Estimate!!HISPANIC OR LATINO AND RACE!!Total population!!Hispanic or Latino (of any race)    0.933979\n",
              "Estimate!!RACE!!Total population!!One race!!Some other race                                  0.922784\n",
              "Estimate!!RACE!!Total population!!One race!!Asian                                            0.854081\n",
              "Estimate!!RACE!!Total population!!One race!!Black or African American                        0.829326\n",
              "WhiteNH_Income                                                                               0.498565\n",
              "White_Income                                                                                 0.484294\n",
              "Overall_Income                                                                               0.461719\n",
              "Black_Income                                                                                 0.387834\n",
              "Asian_Income                                                                                 0.151263\n",
              "Two_Income                                                                                   0.141166\n",
              "Hispanic_Income                                                                              0.111527\n",
              "Estimate!!SEX AND AGE!!Total population!!Median age (years)                                 -0.300980\n",
              "Name: Total_Cases, dtype: float64"
            ]
          },
          "metadata": {
            "tags": []
          },
          "execution_count": 20
        }
      ]
    },
    {
      "cell_type": "code",
      "metadata": {
        "colab": {
          "base_uri": "https://localhost:8080/"
        },
        "id": "lJnrkyqoUYrt",
        "outputId": "683e9215-e23f-41e3-d554-216ef64b0f70"
      },
      "source": [
        "corr_matrix[\"Hospitalizations\"].sort_values(ascending=False)"
      ],
      "execution_count": null,
      "outputs": [
        {
          "output_type": "execute_result",
          "data": {
            "text/plain": [
              "Hospitalizations                                                                             1.000000\n",
              "Estimate!!SEX AND AGE!!Total population!!Male                                                0.984117\n",
              "Estimate!!RACE!!Total population                                                             0.983842\n",
              "Estimate!!SEX AND AGE!!Total population                                                      0.983842\n",
              "Estimate!!SEX AND AGE!!Total population!!Female                                              0.983201\n",
              "Estimate!!SEX AND AGE!!Total population!!Under 5 years                                       0.982027\n",
              "Estimate!!SEX AND AGE!!Total population!!55 to 59 years                                      0.980660\n",
              "Estimate!!SEX AND AGE!!Total population!!60 to 64 years                                      0.979035\n",
              "Total_Cases                                                                                  0.976940\n",
              "Estimate!!SEX AND AGE!!Total population!!35 to 44 years                                      0.976613\n",
              "Estimate!!SEX AND AGE!!Total population!!45 to 54 years                                      0.976572\n",
              "Estimate!!SEX AND AGE!!Total population!!5 to 9 years                                        0.973167\n",
              "Estimate!!SEX AND AGE!!Total population!!25 to 34 years                                      0.972683\n",
              "Estimate!!SEX AND AGE!!Total population!!65 to 74 years                                      0.971129\n",
              "Estimate!!RACE!!Total population!!Two or more races.1                                        0.970900\n",
              "Estimate!!RACE!!Total population!!Two or more races                                          0.970900\n",
              "Estimate!!RACE!!Total population!!One race!!White                                            0.968358\n",
              "Estimate!!SEX AND AGE!!Total population!!10 to 14 years                                      0.968112\n",
              "Estimate!!SEX AND AGE!!Total population!!75 to 84 years                                      0.965123\n",
              "Estimate!!SEX AND AGE!!Total population!!15 to 19 years                                      0.963672\n",
              "Deaths                                                                                       0.956559\n",
              "Estimate!!SEX AND AGE!!Total population!!85 years and over                                   0.950002\n",
              "Estimate!!SEX AND AGE!!Total population!!20 to 24 years                                      0.948212\n",
              "Estimate!!HISPANIC OR LATINO AND RACE!!Total population!!Hispanic or Latino (of any race)    0.933654\n",
              "Estimate!!RACE!!Total population!!One race!!Some other race                                  0.919601\n",
              "Estimate!!RACE!!Total population!!One race!!Asian                                            0.894342\n",
              "Estimate!!RACE!!Total population!!One race!!Black or African American                        0.799936\n",
              "WhiteNH_Income                                                                               0.460127\n",
              "White_Income                                                                                 0.445259\n",
              "Overall_Income                                                                               0.414314\n",
              "Black_Income                                                                                 0.330584\n",
              "Asian_Income                                                                                 0.137205\n",
              "Two_Income                                                                                   0.130498\n",
              "Hispanic_Income                                                                              0.084800\n",
              "Estimate!!SEX AND AGE!!Total population!!Median age (years)                                 -0.257797\n",
              "Name: Hospitalizations, dtype: float64"
            ]
          },
          "metadata": {
            "tags": []
          },
          "execution_count": 21
        }
      ]
    },
    {
      "cell_type": "code",
      "metadata": {
        "colab": {
          "base_uri": "https://localhost:8080/"
        },
        "id": "NA8E-DHNVCuA",
        "outputId": "841882b6-e1e7-451c-a41d-121d94633d86"
      },
      "source": [
        "total_data.info()"
      ],
      "execution_count": null,
      "outputs": [
        {
          "output_type": "stream",
          "text": [
            "<class 'pandas.core.frame.DataFrame'>\n",
            "RangeIndex: 133 entries, 0 to 132\n",
            "Data columns (total 35 columns):\n",
            " #   Column                                                                                     Non-Null Count  Dtype  \n",
            "---  ------                                                                                     --------------  -----  \n",
            " 0   Estimate!!SEX AND AGE!!Total population                                                    133 non-null    float64\n",
            " 1   Estimate!!SEX AND AGE!!Total population!!Male                                              133 non-null    float64\n",
            " 2   Estimate!!SEX AND AGE!!Total population!!Female                                            133 non-null    float64\n",
            " 3   Estimate!!SEX AND AGE!!Total population!!Under 5 years                                     133 non-null    float64\n",
            " 4   Estimate!!SEX AND AGE!!Total population!!5 to 9 years                                      133 non-null    float64\n",
            " 5   Estimate!!SEX AND AGE!!Total population!!10 to 14 years                                    133 non-null    float64\n",
            " 6   Estimate!!SEX AND AGE!!Total population!!15 to 19 years                                    133 non-null    float64\n",
            " 7   Estimate!!SEX AND AGE!!Total population!!20 to 24 years                                    133 non-null    float64\n",
            " 8   Estimate!!SEX AND AGE!!Total population!!25 to 34 years                                    133 non-null    float64\n",
            " 9   Estimate!!SEX AND AGE!!Total population!!35 to 44 years                                    133 non-null    float64\n",
            " 10  Estimate!!SEX AND AGE!!Total population!!45 to 54 years                                    133 non-null    float64\n",
            " 11  Estimate!!SEX AND AGE!!Total population!!55 to 59 years                                    133 non-null    float64\n",
            " 12  Estimate!!SEX AND AGE!!Total population!!60 to 64 years                                    133 non-null    float64\n",
            " 13  Estimate!!SEX AND AGE!!Total population!!65 to 74 years                                    133 non-null    float64\n",
            " 14  Estimate!!SEX AND AGE!!Total population!!75 to 84 years                                    133 non-null    float64\n",
            " 15  Estimate!!SEX AND AGE!!Total population!!85 years and over                                 133 non-null    float64\n",
            " 16  Estimate!!SEX AND AGE!!Total population!!Median age (years)                                133 non-null    float64\n",
            " 17  Estimate!!RACE!!Total population                                                           133 non-null    float64\n",
            " 18  Estimate!!RACE!!Total population!!Two or more races                                        133 non-null    float64\n",
            " 19  Estimate!!RACE!!Total population!!One race!!White                                          133 non-null    float64\n",
            " 20  Estimate!!RACE!!Total population!!One race!!Black or African American                      133 non-null    float64\n",
            " 21  Estimate!!RACE!!Total population!!One race!!Asian                                          133 non-null    float64\n",
            " 22  Estimate!!RACE!!Total population!!One race!!Some other race                                133 non-null    float64\n",
            " 23  Estimate!!RACE!!Total population!!Two or more races.1                                      133 non-null    float64\n",
            " 24  Estimate!!HISPANIC OR LATINO AND RACE!!Total population!!Hispanic or Latino (of any race)  133 non-null    float64\n",
            " 25  Overall_Income                                                                             133 non-null    float64\n",
            " 26  White_Income                                                                               133 non-null    float64\n",
            " 27  Black_Income                                                                               131 non-null    float64\n",
            " 28  Asian_Income                                                                               106 non-null    float64\n",
            " 29  Two_Income                                                                                 126 non-null    float64\n",
            " 30  WhiteNH_Income                                                                             133 non-null    float64\n",
            " 31  Hispanic_Income                                                                            127 non-null    float64\n",
            " 32  Total_Cases                                                                                133 non-null    float64\n",
            " 33  Hospitalizations                                                                           133 non-null    float64\n",
            " 34  Deaths                                                                                     133 non-null    float64\n",
            "dtypes: float64(35)\n",
            "memory usage: 36.5 KB\n"
          ],
          "name": "stdout"
        }
      ]
    },
    {
      "cell_type": "code",
      "metadata": {
        "id": "NwFo4BJ_LRaA",
        "colab": {
          "base_uri": "https://localhost:8080/"
        },
        "outputId": "fb8be668-5a22-4362-c6be-8661b7956c28"
      },
      "source": [
        "\n",
        "# CASES PIPELINE\n",
        "from sklearn.impute import SimpleImputer\n",
        "from sklearn.preprocessing import LabelEncoder\n",
        "from sklearn.preprocessing import OneHotEncoder\n",
        "from sklearn.pipeline import Pipeline\n",
        "from sklearn.preprocessing import StandardScaler\n",
        "from sklearn.compose import ColumnTransformer\n",
        "from sklearn.base import BaseEstimator, TransformerMixin\n",
        "\n",
        "income_ix, whiteIn_ix, blackIn_ix, asianIn_ix, twoIn_ix, hispanicIn_ix = 25, 26, 27, 28, 29, 31\n",
        "population_ix, cases_ix, hospital_ix, deaths_ix = 0, 32, 33, 34\n",
        "two_ix, white_ix, black_ix, asian_ix, hispanic_ix = 18, 19, 20, 21, 24\n",
        "male_ix = 1\n",
        "\n",
        "class CombinedAttributesAdder(BaseEstimator, TransformerMixin):\n",
        "    def __init__(self, add_ratios = True): # no *args or **kargs\n",
        "        self.add_ratios = add_ratios\n",
        "    def fit(self, X, y=None):\n",
        "        return self  # nothing else to do\n",
        "    def transform(self, X, y=None):\n",
        "        cases_per_population = X[:, cases_ix] / X[:, population_ix]\n",
        "        hospital_per_population = X[:, hospital_ix] / X[:, population_ix]\n",
        "        deaths_per_population = X[:, deaths_ix] / X[:, population_ix]\n",
        "        two_ratio = X[:, two_ix] / X[:, population_ix]\n",
        "        white_ratio = X[:, white_ix] / X[:, population_ix]\n",
        "        black_ratio = X[:, black_ix] / X[:, population_ix]\n",
        "        asian_ratio = X[:, asian_ix] / X[:, population_ix]\n",
        "        hispanic_ratio = X[:, hispanic_ix] / X[:, population_ix]\n",
        "\n",
        "        whiteIn_ratio =  X[:, whiteIn_ix] / X[:, income_ix]\n",
        "        blackIn_ratio =  X[:, blackIn_ix] / X[:, income_ix]\n",
        "        asianIn_ratio =  X[:, asianIn_ix] / X[:, income_ix]\n",
        "        twoIn_ratio =  X[:, twoIn_ix] / X[:, income_ix]\n",
        "        hispanicIn_ratio =  X[:, hispanicIn_ix] / X[:, income_ix]\n",
        "        sexage_ratios = X[:, male_ix] / X[:, population_ix]\n",
        "        for i in range(2,16):\n",
        "          current_ratio = X[:, i] / X[:, population_ix]\n",
        "          sexage_ratios = np.c_[sexage_ratios, current_ratio]\n",
        "        \n",
        "        if self.add_ratios:\n",
        "            return np.c_[white_ratio, black_ratio, asian_ratio, hispanic_ratio, two_ratio,\n",
        "                         whiteIn_ratio, blackIn_ratio, asianIn_ratio, hispanicIn_ratio, twoIn_ratio, sexage_ratios,\n",
        "                         cases_per_population, hospital_per_population, deaths_per_population]\n",
        "        else:\n",
        "            return X\n",
        "\n",
        "num_attribs = list(total_data)\n",
        "scale_attribs = ['Overall_Income', 'Estimate!!RACE!!Total population']\n",
        "\n",
        "num_pipeline = Pipeline([\n",
        "        ('imputer', SimpleImputer(strategy=\"median\")),\n",
        "        ('attribs_adder', CombinedAttributesAdder()),\n",
        "        #('std_scaler', StandardScaler()),\n",
        "    ])\n",
        "\n",
        "full_pipeline = ColumnTransformer([\n",
        "        #(\"attribs_adder\", CombinedAttributesAdder(), num_attribs),\n",
        "        ('std_scaler', StandardScaler(), scale_attribs),\n",
        "        (\"num\", num_pipeline, num_attribs),\n",
        "        #('std_scaler', StandardScaler(), scale_attribs),\n",
        "    ])\n",
        "\n",
        "Train_prepared = full_pipeline.fit_transform(train_set)\n",
        "Test_prepared = full_pipeline.fit_transform(test_set)\n",
        "\n",
        "Train_prepared[0]"
      ],
      "execution_count": null,
      "outputs": [
        {
          "output_type": "execute_result",
          "data": {
            "text/plain": [
              "array([-0.75165885,  0.21527238,  0.62390027,  0.28976408,  0.02978968,\n",
              "        0.06271352,  0.04356589,  1.10984063,  0.75596112,  1.0316893 ,\n",
              "        0.85156792,  0.92958542,  0.47623175,  0.52376825,  0.06835703,\n",
              "        0.06371121,  0.05515525,  0.04950166,  0.05822895,  0.15454152,\n",
              "        0.12768445,  0.12961937,  0.06753066,  0.06454766,  0.09378307,\n",
              "        0.03993792,  0.02740126,  0.08411855,  0.0024388 ,  0.00190469])"
            ]
          },
          "metadata": {
            "tags": []
          },
          "execution_count": 23
        }
      ]
    },
    {
      "cell_type": "code",
      "metadata": {
        "id": "Tx9exa7N2SlO"
      },
      "source": [
        "PreptCases_train = Train_prepared[:, 27]                         #Gets the Y's for our training\n",
        "PreptHospitls_train =  Train_prepared[:, 28]\n",
        "PreptDeaths_train =  Train_prepared[:, 29]\n",
        "\n",
        "X_train_set = np.delete(Train_prepared, [27,28,29], axis=1) #removes of Y's to make X_data, also removing total cases hostpitals and deaths\n",
        "\n",
        "PreptCases_Test = Test_prepared[:, 27]                         #Gets the Y's for are training\n",
        "PreptHospitls_Test =  Test_prepared[:, 28]\n",
        "PreptDeaths_Test =  Test_prepared[:, 29]\n",
        "\n",
        "X_test_set = np.delete(Test_prepared, [27,28,29], axis=1)"
      ],
      "execution_count": null,
      "outputs": []
    },
    {
      "cell_type": "markdown",
      "metadata": {
        "id": "lZ65ne9XUpIp"
      },
      "source": [
        "# Finding the best Model\n",
        "\n"
      ]
    },
    {
      "cell_type": "code",
      "metadata": {
        "id": "VPT28ZusbpMh"
      },
      "source": [
        "def evaluate(model, test_features, test_labels):\n",
        "    predictions = model.predict(test_features)\n",
        "    errors = abs(predictions - test_labels)\n",
        "    mape = 100 * np.mean(errors / test_labels)\n",
        "    accuracy = 100 - mape\n",
        "    print('Model Performance')\n",
        "    print('Average Error: {:0.4f} degrees.'.format(np.mean(errors)))\n",
        "    print('Accuracy = {:0.2f}%.'.format(accuracy))\n",
        "\n",
        "    return accuracy"
      ],
      "execution_count": null,
      "outputs": []
    },
    {
      "cell_type": "code",
      "metadata": {
        "colab": {
          "base_uri": "https://localhost:8080/"
        },
        "id": "ItAZv1VAoCNg",
        "outputId": "244d4b2b-d7f2-4314-b900-f7c1be8e9d11"
      },
      "source": [
        "from sklearn.metrics import mean_squared_error\n",
        "from sklearn.linear_model import LinearRegression\n",
        "attributes = scale_attribs + ['white_ratio', 'black_ratio', 'asian_ratio', 'hispanic_ratio', 'two_ratio', 'whiteIn_ratio', 'blackIn_ratio', 'asianIn_ratio', 'hispanicIn_ratio', 'twoIn_ratio',\n",
        "                              'male_ratio', 'female_ratio', 'Under5_ratio', '5to9_ratio', '10to14_ratio', '15to19_ratio', '20to24_ratio', '25to34_ratio', '35to44_ratio', '45to54_ratio', '55to59_ratio', \n",
        "                              '60to64_ratio', '65to74_ratio', '75to84_ratio', '85up_ratio',]\n",
        "liner_reg = LinearRegression()\n",
        "liner_reg.fit(X_train_set, PreptCases_train)\n",
        "\n",
        "cases_pred_liner = liner_reg.predict(X_test_set)\n",
        "liner_mse = mean_squared_error(PreptCases_Test, cases_pred_liner)\n",
        "liner_rmse = np.sqrt(liner_mse)\n",
        "print(liner_rmse)\n",
        "evaluate(liner_reg, X_test_set, PreptCases_Test)"
      ],
      "execution_count": null,
      "outputs": [
        {
          "output_type": "stream",
          "text": [
            "0.023735532587527454\n",
            "Model Performance\n",
            "Average Error: 0.0196 degrees.\n",
            "Accuracy = 75.88%.\n"
          ],
          "name": "stdout"
        },
        {
          "output_type": "execute_result",
          "data": {
            "text/plain": [
              "75.88272201008508"
            ]
          },
          "metadata": {
            "tags": []
          },
          "execution_count": 26
        }
      ]
    },
    {
      "cell_type": "code",
      "metadata": {
        "colab": {
          "base_uri": "https://localhost:8080/"
        },
        "id": "ezNbshlxb_LQ",
        "outputId": "d4de4976-4f4d-417a-ffde-b2e56e11e4be"
      },
      "source": [
        "from sklearn.metrics import mean_squared_error\n",
        "from sklearn.tree import DecisionTreeRegressor\n",
        "\n",
        "tree_reg = DecisionTreeRegressor(random_state=42)\n",
        "tree_reg.fit(X_train_set, PreptCases_train)\n",
        "\n",
        "cases_pred_tree = tree_reg.predict(X_test_set)\n",
        "tree_mse = mean_squared_error(PreptCases_Test, cases_pred_tree)\n",
        "tree_rmse = np.sqrt(tree_mse)\n",
        "print(tree_rmse)\n",
        "evaluate(tree_reg, X_test_set, PreptCases_Test)\n",
        "feature_importances = tree_reg.feature_importances_\n",
        "sorted(zip(feature_importances, attributes), reverse=True)"
      ],
      "execution_count": null,
      "outputs": [
        {
          "output_type": "stream",
          "text": [
            "0.031066051493135727\n",
            "Model Performance\n",
            "Average Error: 0.0202 degrees.\n",
            "Accuracy = 78.03%.\n"
          ],
          "name": "stdout"
        },
        {
          "output_type": "execute_result",
          "data": {
            "text/plain": [
              "[(0.48168206167455413, 'female_ratio'),\n",
              " (0.10240955755512722, 'Estimate!!RACE!!Total population'),\n",
              " (0.06497821575853271, 'Overall_Income'),\n",
              " (0.05197266942534572, '25to34_ratio'),\n",
              " (0.04650153492568033, '10to14_ratio'),\n",
              " (0.04487859894178447, 'Under5_ratio'),\n",
              " (0.03972540704044047, 'whiteIn_ratio'),\n",
              " (0.03504597527957251, '15to19_ratio'),\n",
              " (0.02272003540067459, 'asian_ratio'),\n",
              " (0.016165817866426634, 'two_ratio'),\n",
              " (0.015369426346762664, 'blackIn_ratio'),\n",
              " (0.013686354145580493, '20to24_ratio'),\n",
              " (0.013295294563715783, '85up_ratio'),\n",
              " (0.012913169477753178, '5to9_ratio'),\n",
              " (0.011257830576599211, 'hispanicIn_ratio'),\n",
              " (0.007126797935927494, '75to84_ratio'),\n",
              " (0.004907355462010889, '45to54_ratio'),\n",
              " (0.003420440831352654, '65to74_ratio'),\n",
              " (0.003322850940441769, 'hispanic_ratio'),\n",
              " (0.0031241835629398423, '55to59_ratio'),\n",
              " (0.002064965594832364, 'asianIn_ratio'),\n",
              " (0.0015855648517096486, '35to44_ratio'),\n",
              " (0.0007636961053359457, 'twoIn_ratio'),\n",
              " (0.0006499847919064979, 'black_ratio'),\n",
              " (0.00024818664795760544, 'male_ratio'),\n",
              " (0.0001840242970350267, 'white_ratio'),\n",
              " (0.0, '60to64_ratio')]"
            ]
          },
          "metadata": {
            "tags": []
          },
          "execution_count": 27
        }
      ]
    },
    {
      "cell_type": "code",
      "metadata": {
        "colab": {
          "base_uri": "https://localhost:8080/"
        },
        "id": "i4MUwlZteHmB",
        "outputId": "436beb36-2154-41c3-f90d-06087a1c5320"
      },
      "source": [
        "#Random forests for Cases\n",
        "from sklearn.ensemble import RandomForestRegressor\n",
        "\n",
        "forest_reg = RandomForestRegressor(n_estimators=100, random_state=42)\n",
        "forest_reg.fit(X_train_set, PreptCases_train)\n",
        "\n",
        "cases_predictions = forest_reg.predict(X_test_set)\n",
        "forest_mse = mean_squared_error(PreptCases_Test, cases_predictions)\n",
        "forest_rmse = np.sqrt(forest_mse)\n",
        "print(forest_rmse)\n",
        "evaluate(forest_reg, X_test_set, PreptCases_Test)"
      ],
      "execution_count": null,
      "outputs": [
        {
          "output_type": "stream",
          "text": [
            "0.02177815782480021\n",
            "Model Performance\n",
            "Average Error: 0.0134 degrees.\n",
            "Accuracy = 85.74%.\n"
          ],
          "name": "stdout"
        },
        {
          "output_type": "execute_result",
          "data": {
            "text/plain": [
              "85.73899809774176"
            ]
          },
          "metadata": {
            "tags": []
          },
          "execution_count": 28
        }
      ]
    },
    {
      "cell_type": "markdown",
      "metadata": {
        "id": "2Emey86Uty68"
      },
      "source": [
        "#Predictions for Cases"
      ]
    },
    {
      "cell_type": "code",
      "metadata": {
        "colab": {
          "base_uri": "https://localhost:8080/"
        },
        "id": "KYOVhLVOeYzW",
        "outputId": "aa6feb0a-ddff-4f9d-ef39-dab4778c3d7e"
      },
      "source": [
        "from sklearn.model_selection import GridSearchCV\n",
        "from sklearn.model_selection import RandomizedSearchCV\n",
        "param_grid = {\n",
        "    'bootstrap': [False],\n",
        "    'max_depth': [80, 90, 100, 110],\n",
        "     'max_features': [2, 3],\n",
        "    'min_samples_leaf': [3, 4, 5],\n",
        "    'min_samples_split': [8, 10, 12],\n",
        "    'n_estimators': [100, 200, 300, 1000]\n",
        "}\n",
        "grid_search_cases = GridSearchCV(forest_reg, param_grid = param_grid, cv=5, n_jobs = -1, verbose = 2)\n",
        "                           \n",
        "grid_search_cases.fit(X_train_set, PreptCases_train)"
      ],
      "execution_count": null,
      "outputs": [
        {
          "output_type": "stream",
          "text": [
            "Fitting 5 folds for each of 288 candidates, totalling 1440 fits\n"
          ],
          "name": "stdout"
        },
        {
          "output_type": "stream",
          "text": [
            "[Parallel(n_jobs=-1)]: Using backend LokyBackend with 2 concurrent workers.\n",
            "[Parallel(n_jobs=-1)]: Done  37 tasks      | elapsed:   12.6s\n",
            "[Parallel(n_jobs=-1)]: Done 158 tasks      | elapsed:   54.6s\n",
            "[Parallel(n_jobs=-1)]: Done 361 tasks      | elapsed:  2.1min\n",
            "[Parallel(n_jobs=-1)]: Done 644 tasks      | elapsed:  3.7min\n",
            "[Parallel(n_jobs=-1)]: Done 1009 tasks      | elapsed:  5.8min\n",
            "[Parallel(n_jobs=-1)]: Done 1440 out of 1440 | elapsed:  8.3min finished\n"
          ],
          "name": "stderr"
        },
        {
          "output_type": "execute_result",
          "data": {
            "text/plain": [
              "GridSearchCV(cv=5, error_score=nan,\n",
              "             estimator=RandomForestRegressor(bootstrap=True, ccp_alpha=0.0,\n",
              "                                             criterion='mse', max_depth=None,\n",
              "                                             max_features='auto',\n",
              "                                             max_leaf_nodes=None,\n",
              "                                             max_samples=None,\n",
              "                                             min_impurity_decrease=0.0,\n",
              "                                             min_impurity_split=None,\n",
              "                                             min_samples_leaf=1,\n",
              "                                             min_samples_split=2,\n",
              "                                             min_weight_fraction_leaf=0.0,\n",
              "                                             n_estimators=100, n_jobs=None,\n",
              "                                             oob_score=False, random_state=42,\n",
              "                                             verbose=0, warm_start=False),\n",
              "             iid='deprecated', n_jobs=-1,\n",
              "             param_grid={'bootstrap': [False], 'max_depth': [80, 90, 100, 110],\n",
              "                         'max_features': [2, 3], 'min_samples_leaf': [3, 4, 5],\n",
              "                         'min_samples_split': [8, 10, 12],\n",
              "                         'n_estimators': [100, 200, 300, 1000]},\n",
              "             pre_dispatch='2*n_jobs', refit=True, return_train_score=False,\n",
              "             scoring=None, verbose=2)"
            ]
          },
          "metadata": {
            "tags": []
          },
          "execution_count": 29
        }
      ]
    },
    {
      "cell_type": "code",
      "metadata": {
        "id": "ZrAJ-UMligvb",
        "colab": {
          "base_uri": "https://localhost:8080/"
        },
        "outputId": "15922df3-0ff5-473e-d095-20930ba1bc62"
      },
      "source": [
        "grid_search_cases.best_params_"
      ],
      "execution_count": null,
      "outputs": [
        {
          "output_type": "execute_result",
          "data": {
            "text/plain": [
              "{'bootstrap': False,\n",
              " 'max_depth': 80,\n",
              " 'max_features': 3,\n",
              " 'min_samples_leaf': 3,\n",
              " 'min_samples_split': 8,\n",
              " 'n_estimators': 1000}"
            ]
          },
          "metadata": {
            "tags": []
          },
          "execution_count": 30
        }
      ]
    },
    {
      "cell_type": "code",
      "metadata": {
        "id": "KHrFRZQLiZr_",
        "colab": {
          "base_uri": "https://localhost:8080/"
        },
        "outputId": "cbec2209-6d9b-496b-ece3-889e5ef28854"
      },
      "source": [
        "best_grid_cases = grid_search_cases.best_estimator_\n",
        "cases_predictions = best_grid_cases.predict(X_test_set)\n",
        "best_grid_cases_mse = mean_squared_error(PreptCases_Test, cases_predictions)\n",
        "best_grid_cases_rmse = np.sqrt(best_grid_cases_mse)\n",
        "print(best_grid_cases_rmse)\n",
        "grid_accuracy_cases = evaluate(best_grid_cases, X_test_set, PreptCases_Test)\n",
        "feature_importances = best_grid_cases.feature_importances_\n",
        "sorted(zip(feature_importances, attributes), reverse=True)"
      ],
      "execution_count": null,
      "outputs": [
        {
          "output_type": "stream",
          "text": [
            "0.021774280791134668\n",
            "Model Performance\n",
            "Average Error: 0.0138 degrees.\n",
            "Accuracy = 85.13%.\n"
          ],
          "name": "stdout"
        },
        {
          "output_type": "execute_result",
          "data": {
            "text/plain": [
              "[(0.12508775828278432, 'Overall_Income'),\n",
              " (0.10795051595735598, 'female_ratio'),\n",
              " (0.1047576609640821, 'male_ratio'),\n",
              " (0.054724920168965935, 'white_ratio'),\n",
              " (0.05258297839026975, 'black_ratio'),\n",
              " (0.04921272546454315, 'Estimate!!RACE!!Total population'),\n",
              " (0.0474006012711471, '25to34_ratio'),\n",
              " (0.04071363888282795, '65to74_ratio'),\n",
              " (0.03938006710711034, 'Under5_ratio'),\n",
              " (0.03618923375351059, '55to59_ratio'),\n",
              " (0.03604332160666363, 'asian_ratio'),\n",
              " (0.02682588019990396, '60to64_ratio'),\n",
              " (0.025805056600687805, 'twoIn_ratio'),\n",
              " (0.025218358568376377, 'whiteIn_ratio'),\n",
              " (0.02430661550692114, '15to19_ratio'),\n",
              " (0.023004322646905488, 'two_ratio'),\n",
              " (0.020450457052774183, 'hispanic_ratio'),\n",
              " (0.019770884077280816, 'blackIn_ratio'),\n",
              " (0.01862089426477762, '35to44_ratio'),\n",
              " (0.018281937143419635, '45to54_ratio'),\n",
              " (0.017024104796656194, '75to84_ratio'),\n",
              " (0.01599878522983089, 'hispanicIn_ratio'),\n",
              " (0.01575582588270709, '20to24_ratio'),\n",
              " (0.014165651444954405, 'asianIn_ratio'),\n",
              " (0.013708196665753469, '5to9_ratio'),\n",
              " (0.013513948599522183, '10to14_ratio'),\n",
              " (0.013505659470267817, '85up_ratio')]"
            ]
          },
          "metadata": {
            "tags": []
          },
          "execution_count": 40
        }
      ]
    },
    {
      "cell_type": "markdown",
      "metadata": {
        "id": "nxcFco93peSf"
      },
      "source": [
        "# Predictions for Hospitalizations"
      ]
    },
    {
      "cell_type": "code",
      "metadata": {
        "id": "-MZhcftHpS3H",
        "colab": {
          "base_uri": "https://localhost:8080/"
        },
        "outputId": "7b15f588-8274-4617-d683-5a5772ada55c"
      },
      "source": [
        "#Random Forests for Hospitlzations\n",
        "forest_reg_hospitl = RandomForestRegressor(n_estimators=100, random_state=42)\n",
        "forest_reg_hospitl.fit(X_train_set, PreptHospitls_train)\n",
        "\n",
        "hospitls_predictions = forest_reg_hospitl.predict(X_test_set)\n",
        "forest_mse = mean_squared_error(PreptHospitls_Test, hospitls_predictions)\n",
        "forest_rmse = np.sqrt(forest_mse)\n",
        "print(forest_rmse)\n",
        "evaluate(forest_reg_hospitl, X_test_set, PreptHospitls_Test)"
      ],
      "execution_count": null,
      "outputs": [
        {
          "output_type": "stream",
          "text": [
            "0.002007017110279297\n",
            "Model Performance\n",
            "Average Error: 0.0014 degrees.\n",
            "Accuracy = 39.15%.\n"
          ],
          "name": "stdout"
        },
        {
          "output_type": "execute_result",
          "data": {
            "text/plain": [
              "39.15273124741603"
            ]
          },
          "metadata": {
            "tags": []
          },
          "execution_count": 47
        }
      ]
    },
    {
      "cell_type": "code",
      "metadata": {
        "id": "4ckMOMGIjEKW",
        "colab": {
          "base_uri": "https://localhost:8080/"
        },
        "outputId": "36a605ac-d034-4eb4-a7ab-0dc70a483e98"
      },
      "source": [
        "param_grid = {\n",
        "    'bootstrap': [False],\n",
        "    'max_depth': [80, 90, 100, 110],\n",
        "     'max_features': [2, 3],\n",
        "    'min_samples_leaf': [3, 4, 5],\n",
        "    'min_samples_split': [8, 10, 12],\n",
        "    'n_estimators': [100, 200, 300, 1000]\n",
        "}\n",
        "grid_search_hospitl = GridSearchCV(forest_reg_hospitl, param_grid = param_grid, cv=5, n_jobs = -1, verbose = 2)\n",
        "                           \n",
        "grid_search_hospitl.fit(X_train_set, PreptHospitls_train)"
      ],
      "execution_count": null,
      "outputs": [
        {
          "output_type": "stream",
          "text": [
            "Fitting 5 folds for each of 288 candidates, totalling 1440 fits\n"
          ],
          "name": "stdout"
        },
        {
          "output_type": "stream",
          "text": [
            "[Parallel(n_jobs=-1)]: Using backend LokyBackend with 2 concurrent workers.\n",
            "[Parallel(n_jobs=-1)]: Done  47 tasks      | elapsed:   14.6s\n",
            "[Parallel(n_jobs=-1)]: Done 168 tasks      | elapsed:   55.4s\n",
            "[Parallel(n_jobs=-1)]: Done 371 tasks      | elapsed:  2.1min\n",
            "[Parallel(n_jobs=-1)]: Done 654 tasks      | elapsed:  3.7min\n",
            "[Parallel(n_jobs=-1)]: Done 1019 tasks      | elapsed:  5.8min\n",
            "[Parallel(n_jobs=-1)]: Done 1440 out of 1440 | elapsed:  8.3min finished\n"
          ],
          "name": "stderr"
        },
        {
          "output_type": "execute_result",
          "data": {
            "text/plain": [
              "GridSearchCV(cv=5, error_score=nan,\n",
              "             estimator=RandomForestRegressor(bootstrap=True, ccp_alpha=0.0,\n",
              "                                             criterion='mse', max_depth=None,\n",
              "                                             max_features='auto',\n",
              "                                             max_leaf_nodes=None,\n",
              "                                             max_samples=None,\n",
              "                                             min_impurity_decrease=0.0,\n",
              "                                             min_impurity_split=None,\n",
              "                                             min_samples_leaf=1,\n",
              "                                             min_samples_split=2,\n",
              "                                             min_weight_fraction_leaf=0.0,\n",
              "                                             n_estimators=100, n_jobs=None,\n",
              "                                             oob_score=False, random_state=42,\n",
              "                                             verbose=0, warm_start=False),\n",
              "             iid='deprecated', n_jobs=-1,\n",
              "             param_grid={'bootstrap': [False], 'max_depth': [80, 90, 100, 110],\n",
              "                         'max_features': [2, 3], 'min_samples_leaf': [3, 4, 5],\n",
              "                         'min_samples_split': [8, 10, 12],\n",
              "                         'n_estimators': [100, 200, 300, 1000]},\n",
              "             pre_dispatch='2*n_jobs', refit=True, return_train_score=False,\n",
              "             scoring=None, verbose=2)"
            ]
          },
          "metadata": {
            "tags": []
          },
          "execution_count": 33
        }
      ]
    },
    {
      "cell_type": "code",
      "metadata": {
        "id": "WeW9HxaKjWCm",
        "colab": {
          "base_uri": "https://localhost:8080/"
        },
        "outputId": "9b1ca964-2182-40fa-86a3-10d984598123"
      },
      "source": [
        "grid_search_hospitl.best_params_"
      ],
      "execution_count": null,
      "outputs": [
        {
          "output_type": "execute_result",
          "data": {
            "text/plain": [
              "{'bootstrap': False,\n",
              " 'max_depth': 80,\n",
              " 'max_features': 3,\n",
              " 'min_samples_leaf': 3,\n",
              " 'min_samples_split': 10,\n",
              " 'n_estimators': 300}"
            ]
          },
          "metadata": {
            "tags": []
          },
          "execution_count": 34
        }
      ]
    },
    {
      "cell_type": "code",
      "metadata": {
        "id": "W0I1wHHYjhD2",
        "colab": {
          "base_uri": "https://localhost:8080/"
        },
        "outputId": "6aaf0304-a44f-4178-d3f7-5116be1a51c8"
      },
      "source": [
        "best_grid_hospitl = grid_search_hospitl.best_estimator_\n",
        "hospitl_predictions = best_grid_hospitl.predict(X_test_set)\n",
        "best_grid_hospitl_mse = mean_squared_error(PreptHospitls_Test, hospitl_predictions)\n",
        "best_grid_hospitl_rmse = np.sqrt(best_grid_hospitl_mse)\n",
        "print(best_grid_hospitl_rmse)\n",
        "grid_accuracy_hospitl = evaluate(best_grid_hospitl, X_test_set, PreptHospitls_Test)\n",
        "feature_importances = best_grid_hospitl.feature_importances_\n",
        "sorted(zip(feature_importances, attributes), reverse=True)"
      ],
      "execution_count": null,
      "outputs": [
        {
          "output_type": "stream",
          "text": [
            "0.0022011236138899763\n",
            "Model Performance\n",
            "Average Error: 0.0013 degrees.\n",
            "Accuracy = 40.90%.\n"
          ],
          "name": "stdout"
        },
        {
          "output_type": "execute_result",
          "data": {
            "text/plain": [
              "[(0.18343285218186697, 'Overall_Income'),\n",
              " (0.08413958731410957, 'whiteIn_ratio'),\n",
              " (0.06603546889082065, 'white_ratio'),\n",
              " (0.06505519683432773, 'black_ratio'),\n",
              " (0.05667291040312784, 'male_ratio'),\n",
              " (0.05535447398861272, 'female_ratio'),\n",
              " (0.043342473327314494, '85up_ratio'),\n",
              " (0.040886056848146134, 'Under5_ratio'),\n",
              " (0.039002724097509565, 'asian_ratio'),\n",
              " (0.03851170888744238, 'asianIn_ratio'),\n",
              " (0.03668948731961985, 'two_ratio'),\n",
              " (0.0288758258559536, '10to14_ratio'),\n",
              " (0.024284131617199486, 'twoIn_ratio'),\n",
              " (0.023874418794359233, 'hispanic_ratio'),\n",
              " (0.022901334119448977, '35to44_ratio'),\n",
              " (0.02249889015645075, '75to84_ratio'),\n",
              " (0.021535747070981857, '20to24_ratio'),\n",
              " (0.018374059276291075, 'Estimate!!RACE!!Total population'),\n",
              " (0.017784921112729724, '25to34_ratio'),\n",
              " (0.016462302302531297, '60to64_ratio'),\n",
              " (0.016014877347963558, '15to19_ratio'),\n",
              " (0.015835727559685358, '5to9_ratio'),\n",
              " (0.014876446126810269, '45to54_ratio'),\n",
              " (0.013133434122617567, '65to74_ratio'),\n",
              " (0.01279137015229962, '55to59_ratio'),\n",
              " (0.01130052948400104, 'hispanicIn_ratio'),\n",
              " (0.01033304480777873, 'blackIn_ratio')]"
            ]
          },
          "metadata": {
            "tags": []
          },
          "execution_count": 41
        }
      ]
    },
    {
      "cell_type": "markdown",
      "metadata": {
        "id": "RIJUBTLgqfet"
      },
      "source": [
        "# Predictions for Deaths"
      ]
    },
    {
      "cell_type": "code",
      "metadata": {
        "id": "swcWnuGxuMvr",
        "colab": {
          "base_uri": "https://localhost:8080/"
        },
        "outputId": "b23f7737-737d-45b0-d555-6beb33f43135"
      },
      "source": [
        "#Random Forest for Deaths\n",
        "forest_reg_deaths = RandomForestRegressor(n_estimators=100, random_state=42)\n",
        "forest_reg_deaths.fit(X_train_set, PreptDeaths_train)\n",
        "\n",
        "deaths_predictions = forest_reg_deaths.predict(X_test_set)\n",
        "forest_mse = mean_squared_error(PreptDeaths_Test, deaths_predictions)\n",
        "forest_rmse = np.sqrt(forest_mse)\n",
        "print(forest_rmse)\n",
        "evaluate(forest_reg_deaths, X_test_set, PreptDeaths_Test)"
      ],
      "execution_count": null,
      "outputs": [
        {
          "output_type": "stream",
          "text": [
            "0.0013909652326914049\n",
            "Model Performance\n",
            "Average Error: 0.0010 degrees.\n",
            "Accuracy = 35.34%.\n"
          ],
          "name": "stdout"
        },
        {
          "output_type": "execute_result",
          "data": {
            "text/plain": [
              "35.34324492505202"
            ]
          },
          "metadata": {
            "tags": []
          },
          "execution_count": 36
        }
      ]
    },
    {
      "cell_type": "code",
      "metadata": {
        "id": "1-Jp3GTuufRt",
        "colab": {
          "base_uri": "https://localhost:8080/"
        },
        "outputId": "1f40cfcc-3728-4259-bfaf-e70f3a83c55a"
      },
      "source": [
        "param_grid = {\n",
        "    'bootstrap': [False],\n",
        "    'max_depth': [80, 90, 100, 110],\n",
        "     'max_features': [2, 3],\n",
        "    'min_samples_leaf': [3, 4, 5],\n",
        "    'min_samples_split': [8, 10, 12],\n",
        "    'n_estimators': [100, 200, 300, 1000]\n",
        "}\n",
        "grid_search_deaths = GridSearchCV(forest_reg_deaths, param_grid = param_grid, cv=5, n_jobs = -1, verbose = 2)\n",
        "                           \n",
        "grid_search_deaths.fit(X_train_set, PreptDeaths_train) "
      ],
      "execution_count": null,
      "outputs": [
        {
          "output_type": "stream",
          "text": [
            "Fitting 5 folds for each of 288 candidates, totalling 1440 fits\n"
          ],
          "name": "stdout"
        },
        {
          "output_type": "stream",
          "text": [
            "[Parallel(n_jobs=-1)]: Using backend LokyBackend with 2 concurrent workers.\n",
            "[Parallel(n_jobs=-1)]: Done  37 tasks      | elapsed:   11.5s\n",
            "[Parallel(n_jobs=-1)]: Done 158 tasks      | elapsed:   53.3s\n",
            "[Parallel(n_jobs=-1)]: Done 361 tasks      | elapsed:  2.1min\n",
            "[Parallel(n_jobs=-1)]: Done 644 tasks      | elapsed:  3.7min\n",
            "[Parallel(n_jobs=-1)]: Done 1009 tasks      | elapsed:  5.8min\n",
            "[Parallel(n_jobs=-1)]: Done 1440 out of 1440 | elapsed:  8.3min finished\n"
          ],
          "name": "stderr"
        },
        {
          "output_type": "execute_result",
          "data": {
            "text/plain": [
              "GridSearchCV(cv=5, error_score=nan,\n",
              "             estimator=RandomForestRegressor(bootstrap=True, ccp_alpha=0.0,\n",
              "                                             criterion='mse', max_depth=None,\n",
              "                                             max_features='auto',\n",
              "                                             max_leaf_nodes=None,\n",
              "                                             max_samples=None,\n",
              "                                             min_impurity_decrease=0.0,\n",
              "                                             min_impurity_split=None,\n",
              "                                             min_samples_leaf=1,\n",
              "                                             min_samples_split=2,\n",
              "                                             min_weight_fraction_leaf=0.0,\n",
              "                                             n_estimators=100, n_jobs=None,\n",
              "                                             oob_score=False, random_state=42,\n",
              "                                             verbose=0, warm_start=False),\n",
              "             iid='deprecated', n_jobs=-1,\n",
              "             param_grid={'bootstrap': [False], 'max_depth': [80, 90, 100, 110],\n",
              "                         'max_features': [2, 3], 'min_samples_leaf': [3, 4, 5],\n",
              "                         'min_samples_split': [8, 10, 12],\n",
              "                         'n_estimators': [100, 200, 300, 1000]},\n",
              "             pre_dispatch='2*n_jobs', refit=True, return_train_score=False,\n",
              "             scoring=None, verbose=2)"
            ]
          },
          "metadata": {
            "tags": []
          },
          "execution_count": 37
        }
      ]
    },
    {
      "cell_type": "code",
      "metadata": {
        "id": "ZQrqb17Ku8xG",
        "colab": {
          "base_uri": "https://localhost:8080/"
        },
        "outputId": "a8383cba-c676-4b7f-ce3a-bb69d620895d"
      },
      "source": [
        "grid_search_deaths.best_params_"
      ],
      "execution_count": null,
      "outputs": [
        {
          "output_type": "execute_result",
          "data": {
            "text/plain": [
              "{'bootstrap': False,\n",
              " 'max_depth': 80,\n",
              " 'max_features': 3,\n",
              " 'min_samples_leaf': 4,\n",
              " 'min_samples_split': 8,\n",
              " 'n_estimators': 100}"
            ]
          },
          "metadata": {
            "tags": []
          },
          "execution_count": 38
        }
      ]
    },
    {
      "cell_type": "code",
      "metadata": {
        "id": "19P9mGoUvAL-",
        "colab": {
          "base_uri": "https://localhost:8080/"
        },
        "outputId": "1ff31941-5eab-4496-e6b8-71a16bbbba37"
      },
      "source": [
        "best_grid_deaths = grid_search_deaths.best_estimator_\n",
        "deaths_predictions = best_grid_deaths.predict(X_test_set)\n",
        "best_grid_deaths_mse = mean_squared_error(PreptDeaths_Test, deaths_predictions)\n",
        "best_grid_deaths_rmse = np.sqrt(best_grid_deaths_mse)\n",
        "print(best_grid_deaths_rmse)\n",
        "grid_accuracy_deaths = evaluate(best_grid_deaths, X_test_set, PreptDeaths_Test)\n",
        "feature_importances = best_grid_deaths.feature_importances_\n",
        "sorted(zip(feature_importances, attributes), reverse=True)"
      ],
      "execution_count": null,
      "outputs": [
        {
          "output_type": "stream",
          "text": [
            "0.0014181458119879237\n",
            "Model Performance\n",
            "Average Error: 0.0009 degrees.\n",
            "Accuracy = 40.98%.\n"
          ],
          "name": "stdout"
        },
        {
          "output_type": "execute_result",
          "data": {
            "text/plain": [
              "[(0.1785141398764859, 'Overall_Income'),\n",
              " (0.11433397513310802, 'female_ratio'),\n",
              " (0.1027744354983341, 'male_ratio'),\n",
              " (0.06320875155803642, 'white_ratio'),\n",
              " (0.06035659288763053, 'black_ratio'),\n",
              " (0.05470607736861172, 'whiteIn_ratio'),\n",
              " (0.053048502980214414, '85up_ratio'),\n",
              " (0.042945457837112004, 'twoIn_ratio'),\n",
              " (0.034007275841806385, '35to44_ratio'),\n",
              " (0.03165244901489492, '10to14_ratio'),\n",
              " (0.025216565374432762, 'asian_ratio'),\n",
              " (0.02489851295592892, 'two_ratio'),\n",
              " (0.024585677045175437, '75to84_ratio'),\n",
              " (0.02450863537758398, '60to64_ratio'),\n",
              " (0.024101017726186086, 'Estimate!!RACE!!Total population'),\n",
              " (0.020225598059680615, 'hispanic_ratio'),\n",
              " (0.015749070566759272, '65to74_ratio'),\n",
              " (0.014887172872068167, '45to54_ratio'),\n",
              " (0.014885397067426339, 'Under5_ratio'),\n",
              " (0.01332547256252829, 'asianIn_ratio'),\n",
              " (0.012105329277782094, '55to59_ratio'),\n",
              " (0.011018522167495316, '25to34_ratio'),\n",
              " (0.010315213982268862, '5to9_ratio'),\n",
              " (0.008673870123412492, 'blackIn_ratio'),\n",
              " (0.007060411114681428, '20to24_ratio'),\n",
              " (0.006459932889504328, '15to19_ratio'),\n",
              " (0.006435942840851214, 'hispanicIn_ratio')]"
            ]
          },
          "metadata": {
            "tags": []
          },
          "execution_count": 48
        }
      ]
    }
  ]
}